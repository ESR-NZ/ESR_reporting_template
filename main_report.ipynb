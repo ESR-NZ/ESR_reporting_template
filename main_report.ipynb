{
 "cells": [
  {
   "cell_type": "markdown",
   "metadata": {},
   "source": [
    "# Notebook to process assembled COVID consensus\n",
    "### There are many steps in this notebook, please make sure all steps are ran and no cells are collapsed"
   ]
  },
  {
   "cell_type": "markdown",
   "metadata": {},
   "source": [
    "## 1) Match Isolates to Barcode and move good quality genomes to /NGS/active/VIR/SARS-CoV2/result/consensus/PASS_QC"
   ]
  },
  {
   "cell_type": "markdown",
   "metadata": {},
   "source": [
    "### 1a clear variables first\n",
    "\n",
    "This is because we don't want left over variables to mess things up. Just feel safer this way. :)"
   ]
  },
  {
   "cell_type": "code",
   "execution_count": 1,
   "metadata": {},
   "outputs": [],
   "source": [
    "#clear variables\n",
    "KSC_RUN_ID = \"\"\n",
    "MASC_RUN_ID = \"\"\n",
    "CSC_RUN_ID = \"\"\n",
    "CSC_FILES = \"\"\n",
    "KSC_FILES = \"\"\n",
    "MASC_FILES = \"\"\n",
    "CSCMIN = \"\"\n",
    "KSCGRID = \"\"\n",
    "MASCGRID = \"\""
   ]
  },
  {
   "cell_type": "markdown",
   "metadata": {},
   "source": [
    "### ARTIC RUNs\n",
    "\n",
    "\n",
    "make isolate_to_barcode.csv files put in directory  \n",
    "\n",
    "/NGS/active/VIR/SARS-CoV2/analysis/CSC/\\<RUN_ID\\>/  \n",
    "\n",
    "/NGS/active/VIR/SARS-CoV2/analysis/MASC/\\<RUN_ID\\>_analysis/no_sample /\n",
    "\n",
    "GridIon_assemblie/\\<RUN_ID\\>/lib_1 (this is the usual name, but sometimes different)\n",
    "(we need to change the folder \"GridIon_assemblie\" for KSC, it is less confusing)\n",
    "\n",
    "The isolate_to_barcode.csv is derived from run information sheet located at:\n",
    "\n",
    "On teams COV_SEQ_TEAMS, sequence Run info channel for MASC\n",
    "or  \n",
    "\\\\hpcprod-file.esr.cri.nz\\esrprodbio_wgs\\COVID-19\\sequencing\\Runs  \n",
    "\\\\hpcprod-file.esr.cri.nz\\esrprodbio_wgs\\COVID-19\\sequencing\\CSC\n",
    "\n",
    "So MASC doesn't put their barcode names in consistently. it is easier just to make the file look like below, remove RBK or NB, just leave th number:\n",
    "\n",
    "21MV0092,5 NOT 21MV0092,RBK05 or 21MV0092,RBK0005 or 21MV0092,NB05\n",
    "\n",
    "Change run_id for the different sites\n",
    "\n",
    "These variables are used by a couple of steps the notebook: 2) copying high quality reads and 4) getting a list of isolates in this week's runs.\n",
    "\n",
    "if there are multiple runs per site, just redefine the variable and run through the notebook up to step 5. That way all runs should be included\n",
    "\n",
    "They are used by step 7 again, but not too hard to recapitulate what is done. That step is just to get report table."
   ]
  },
  {
   "cell_type": "code",
   "execution_count": 2,
   "metadata": {},
   "outputs": [
    {
     "name": "stdout",
     "output_type": "stream",
     "text": [
      "usage: barcodes_v2.py [-h] [-v] [-c] [-b [BATCH_RUN_ID]]\n",
      "\n",
      "barcodes2.py: creates the isolate_to_barcode.csv file into the proper folder\n",
      "filtering bad quality repeats. Update QC #Ns in REDCap. (run this tool only\n",
      "after assembly)\n",
      "\n",
      "optional arguments:\n",
      "  -h, --help         show this help message and exit\n",
      "  -v, --version      show program's version number and exit\n",
      "  -c                 Creates the file Isolate_to_barcode with all Barcodes\n",
      "                     ignoring previous good quality repeats\n",
      "  -b [BATCH_RUN_ID]  Only bring data for this Batch run id\n"
     ]
    }
   ],
   "source": [
    "#This is just the Help command to get the parameters and fuctionality of the script.\n",
    "!python3.5 /NGS/active/VIR/SARS-CoV2/Redcap_api_apps/barcodes_v2.py -h"
   ]
  },
  {
   "cell_type": "code",
   "execution_count": 2,
   "metadata": {},
   "outputs": [],
   "source": [
    "#define run_ID for the run to be processed\n",
    "KSC_RUN_ID = \"\" #20210713_V1200_RAPID_KSC\n",
    "MASC_RUN_ID = \"20210819_2_V1200_RAPID_MASC\" # 20210719_V3ARTIC_MASC, 20210713_V3ARTIC_MASC\n",
    "CSC_RUN_ID = \"\" # 20210721_v3ARTIC_CSC, 20210714_v3ARTIC_CSC 20210728_v3ARTIC_CSC"
   ]
  },
  {
   "cell_type": "code",
   "execution_count": 9,
   "metadata": {},
   "outputs": [
    {
     "name": "stdout",
     "output_type": "stream",
     "text": [
      "we don't have any sample to process, ciao!!\n",
      "MASC\n",
      "b'{\"count\": 14}'\n",
      "Samples removed from the file isolate_to_barcode\n",
      "Empty DataFrame\n",
      "Columns: [esr_sample_number, barcode, Current_N2, old_Ns]\n",
      "Index: []\n",
      "File created at: /NGS/active/VIR/SARS-CoV2/analysis/MASC/20210819_2_V1200_RAPID_MASC_analysis/no_sample/isolate_to_barcode.csv\n",
      "   esr_sample_number  barcode\n",
      "0           21MV0744      1.0\n",
      "1           21MV0745     10.0\n",
      "2           21MV0746     11.0\n",
      "3           21MV0747      2.0\n",
      "4           21MV0748      3.0\n",
      "5           21MV0749      4.0\n",
      "6           21MV0750      5.0\n",
      "7           21MV0751      6.0\n",
      "8           21MV0752     12.0\n",
      "9           21MV0753      7.0\n",
      "10          21MV0754      8.0\n",
      "   unique_seq_id  library_prep_complete\n",
      "0    21MASC00904                      1\n",
      "1    21MASC00905                      1\n",
      "2    21MASC00906                      1\n",
      "3    21MASC00907                      1\n",
      "4    21MASC00908                      1\n",
      "5    21MASC00909                      1\n",
      "6    21MASC00910                      1\n",
      "7    21MASC00911                      1\n",
      "8    21MASC00912                      1\n",
      "9    21MASC00913                      1\n",
      "10   21MASC00914                      1\n",
      "11   21MASC00915                      1\n",
      "12   21MASC00916                      1\n",
      "13   21MASC00917                      1\n",
      "Uploaded and updated!: b'{\"count\": 14}'\n",
      "we don't have any sample to process, ciao!!\n"
     ]
    }
   ],
   "source": [
    "#Creating the file \"Isolate to barcode\" version 1 from the data from REDCap per batch id. \n",
    "#It compares with old samples and only brings those with better quality to the file \"isolate to barcode\"\n",
    "#Argument -c \"Creates the file Isolate_to_barcode with all Barcodes ignoring previous good quality repeats\"\n",
    "#If data is correct in Redcap (Look at the report \"get_samples_to_run\" You should get only the samples that are going to run in the current process), \n",
    "#we wouln't need to run batch per Batch, just one single command without any parameter (usually never the case).\n",
    "!python3.5 /NGS/active/VIR/SARS-CoV2/Redcap_api_apps/barcodes_v2.py -b $KSC_RUN_ID\n",
    "!python3.5 /NGS/active/VIR/SARS-CoV2/Redcap_api_apps/barcodes_v2.py -b $MASC_RUN_ID\n",
    "!python3.5 /NGS/active/VIR/SARS-CoV2/Redcap_api_apps/barcodes_v2.py -b $CSC_RUN_ID"
   ]
  },
  {
   "cell_type": "code",
   "execution_count": 4,
   "metadata": {},
   "outputs": [
    {
     "name": "stdout",
     "output_type": "stream",
     "text": [
      "usage: runPerformanceV2.py [-h] [-v] -b BATCH_RUN_ID\n",
      "runPerformanceV2.py: error: argument -b/--batch: expected one argument\n",
      "new folder created: /NGS/active/VIR/SARS-CoV2/results/run_performance/MASC/20210819_2_V1200_RAPID_MASC\n",
      "11.0 new HTML files were created\n",
      "b'{\"count\": 11}'\n",
      "usage: runPerformanceV2.py [-h] [-v] -b BATCH_RUN_ID\n",
      "runPerformanceV2.py: error: argument -b/--batch: expected one argument\n"
     ]
    }
   ],
   "source": [
    "#The new Python script to upload the Plots after assembly at any moment, It only works Batch by batch\n",
    "!python3.5 /NGS/active/VIR/SARS-CoV2/Redcap_api_apps/runPerformanceV2.py -b $KSC_RUN_ID\n",
    "!python3.5 /NGS/active/VIR/SARS-CoV2/Redcap_api_apps/runPerformanceV2.py -b $MASC_RUN_ID\n",
    "!python3.5 /NGS/active/VIR/SARS-CoV2/Redcap_api_apps/runPerformanceV2.py -b $CSC_RUN_ID"
   ]
  },
  {
   "cell_type": "code",
   "execution_count": 2,
   "metadata": {},
   "outputs": [
    {
     "name": "stdout",
     "output_type": "stream",
     "text": [
      "new folder created: /NGS/active/VIR/SARS-CoV2/results/run_performance/MASC/20210811_V4ARTIC_MASC\n",
      "17.0 new HTML files were created\n",
      "b'{\"count\": 17}'\n"
     ]
    }
   ],
   "source": [
    "!python3.5 /NGS/active/VIR/SARS-CoV2/Redcap_api_apps/runPerformanceV2.py -b 20210811_V4ARTIC_MASC"
   ]
  },
  {
   "cell_type": "code",
   "execution_count": 5,
   "metadata": {},
   "outputs": [],
   "source": [
    "# gather barcode info and copy reads to appropriately named consensus file in results dir\n",
    "\n",
    "# Basedir of all analysis\n",
    "BASE_DIR = \"/NGS/active/VIR/SARS-CoV2/analysis/\"\n",
    "TARGET_DIR = \"/NGS/active/VIR/SARS-CoV2/results/consensus/artic/\"\n",
    "\n",
    "# MinIon Pattern\n",
    "## nanopore/20200514_0005_MN18438_FAN43506_eb427732_analysis/consensus/20200514_0005_MN18438_FAN43506_eb427732_barcode10.consensus.fasta\n",
    "#CSCMIN = BASE_DIR+\"CSC/\"+CSC_RUN_ID+\"_analysis/consensus/*.consensus.fasta\"\n",
    "## nanopore/20200514_0005_MN18438_FAN43506_eb427732_analysis/bc.list\n",
    "## barcode01, 20VR0334\n",
    "\n",
    "\n",
    "# GridION Pattern\n",
    "\n",
    "## for MASC samples MASC/<RUN_ID>/*/*_consensus/*.consensus.fasta\n",
    "## for CSC samples CSC/<RUN_ID>/*/*_consensus/*.consensus.fasta\n",
    "\n",
    "## GridIon_assemblies/20200506_analysis/lib_1_0506/lib_1_0506_consensus/lib_1_0506_barcode10.consensus.fasta\n",
    "\n",
    "KSCGRID = BASE_DIR+\"GridIon_assemblies/\"+KSC_RUN_ID+\"_analysis/*/*_consensus/*.consensus.fasta\"\n",
    "\n",
    "MASCGRID = BASE_DIR+\"MASC/\"+MASC_RUN_ID+\"_analysis/*/*_consensus/*.consensus.fasta\"\n",
    "\n",
    "CSCGRID = BASE_DIR+\"CSC/\"+CSC_RUN_ID+\"_analysis/*/*_consensus/*.consensus.fasta\"\n",
    "\n",
    "#print(MASCGRID)\n",
    "\n",
    "#GRID = BASE_DIR+\"CSC/20210217_v3ARTIC_CSC_analysis/consensus/*.consensus.fasta\"\n",
    "\n",
    "## GridIon_assemblies/20200506_analysis/lib_1_0506/isolate_to_barcode.csv\n",
    "## 20VR3009, NB01\n",
    "\n",
    "\n",
    "\n",
    "# FIRST RULE OF NAONPORE NB01 == barcode01\n",
    "import glob\n",
    "import csv\n",
    "import shutil\n",
    "from pathlib import Path\n",
    "import os\n",
    "# lists of files in the run_ID_ananlysis consensus dir\n",
    "#CSC_FILES = glob.glob(CSCMIN)\n",
    "CSC_FILES = glob.glob(CSCGRID)\n",
    "KSC_FILES = glob.glob(KSCGRID)\n",
    "MASC_FILES = glob.glob(MASCGRID)\n",
    "#MASC_FILES = glob.glob(MASC)\n",
    "#CSC_FILES = glob.glob(CSC)\n",
    "\n",
    "#for afi in GRID_FILES:\n",
    "#    if \"20200829_rapid_1200bp_barcode07\" in afi:\n",
    "#        print(afi)\n",
    "#        print('/'.join(afi.split('/')[0:9])+\"/isolate_to_barcode.csv\")\n",
    "\n",
    "#print(MIN_FILES)"
   ]
  },
  {
   "cell_type": "code",
   "execution_count": 8,
   "metadata": {},
   "outputs": [
    {
     "name": "stdout",
     "output_type": "stream",
     "text": [
      "/NGS/active/VIR/SARS-CoV2/analysis/MASC/20210816_V3ARTIC_MASC_analysis/*/*_consensus/*.consensus.fasta\n",
      "MASC:\n",
      "['/NGS/active/VIR/SARS-CoV2/analysis/MASC/20210816_V3ARTIC_MASC_analysis/no_sample/no_sample_consensus/no_sample_barcode52.consensus.fasta', '/NGS/active/VIR/SARS-CoV2/analysis/MASC/20210816_V3ARTIC_MASC_analysis/no_sample/no_sample_consensus/no_sample_barcode53.consensus.fasta', '/NGS/active/VIR/SARS-CoV2/analysis/MASC/20210816_V3ARTIC_MASC_analysis/no_sample/no_sample_consensus/no_sample_barcode80.consensus.fasta', '/NGS/active/VIR/SARS-CoV2/analysis/MASC/20210816_V3ARTIC_MASC_analysis/no_sample/no_sample_consensus/no_sample_barcode60.consensus.fasta', '/NGS/active/VIR/SARS-CoV2/analysis/MASC/20210816_V3ARTIC_MASC_analysis/no_sample/no_sample_consensus/no_sample_barcode78.consensus.fasta', '/NGS/active/VIR/SARS-CoV2/analysis/MASC/20210816_V3ARTIC_MASC_analysis/no_sample/no_sample_consensus/no_sample_barcode79.consensus.fasta', '/NGS/active/VIR/SARS-CoV2/analysis/MASC/20210816_V3ARTIC_MASC_analysis/no_sample/no_sample_consensus/no_sample_barcode61.consensus.fasta', '/NGS/active/VIR/SARS-CoV2/analysis/MASC/20210816_V3ARTIC_MASC_analysis/no_sample/no_sample_consensus/no_sample_barcode63.consensus.fasta', '/NGS/active/VIR/SARS-CoV2/analysis/MASC/20210816_V3ARTIC_MASC_analysis/no_sample/no_sample_consensus/no_sample_barcode65.consensus.fasta', '/NGS/active/VIR/SARS-CoV2/analysis/MASC/20210816_V3ARTIC_MASC_analysis/no_sample/no_sample_consensus/no_sample_barcode57.consensus.fasta', '/NGS/active/VIR/SARS-CoV2/analysis/MASC/20210816_V3ARTIC_MASC_analysis/no_sample/no_sample_consensus/no_sample_barcode75.consensus.fasta', '/NGS/active/VIR/SARS-CoV2/analysis/MASC/20210816_V3ARTIC_MASC_analysis/no_sample/no_sample_consensus/no_sample_barcode82.consensus.fasta', '/NGS/active/VIR/SARS-CoV2/analysis/MASC/20210816_V3ARTIC_MASC_analysis/no_sample/no_sample_consensus/no_sample_barcode81.consensus.fasta', '/NGS/active/VIR/SARS-CoV2/analysis/MASC/20210816_V3ARTIC_MASC_analysis/no_sample/no_sample_consensus/no_sample_barcode76.consensus.fasta', '/NGS/active/VIR/SARS-CoV2/analysis/MASC/20210816_V3ARTIC_MASC_analysis/no_sample/no_sample_consensus/no_sample_barcode55.consensus.fasta', '/NGS/active/VIR/SARS-CoV2/analysis/MASC/20210816_V3ARTIC_MASC_analysis/no_sample/no_sample_consensus/no_sample_barcode77.consensus.fasta', '/NGS/active/VIR/SARS-CoV2/analysis/MASC/20210816_V3ARTIC_MASC_analysis/no_sample/no_sample_consensus/no_sample_barcode73.consensus.fasta', '/NGS/active/VIR/SARS-CoV2/analysis/MASC/20210816_V3ARTIC_MASC_analysis/no_sample/no_sample_consensus/no_sample_barcode51.consensus.fasta', '/NGS/active/VIR/SARS-CoV2/analysis/MASC/20210816_V3ARTIC_MASC_analysis/no_sample/no_sample_consensus/no_sample_barcode58.consensus.fasta', '/NGS/active/VIR/SARS-CoV2/analysis/MASC/20210816_V3ARTIC_MASC_analysis/no_sample/no_sample_consensus/no_sample_barcode83.consensus.fasta', '/NGS/active/VIR/SARS-CoV2/analysis/MASC/20210816_V3ARTIC_MASC_analysis/no_sample/no_sample_consensus/no_sample_barcode50.consensus.fasta', '/NGS/active/VIR/SARS-CoV2/analysis/MASC/20210816_V3ARTIC_MASC_analysis/no_sample/no_sample_consensus/no_sample_barcode64.consensus.fasta', '/NGS/active/VIR/SARS-CoV2/analysis/MASC/20210816_V3ARTIC_MASC_analysis/no_sample/no_sample_consensus/no_sample_barcode49.consensus.fasta', '/NGS/active/VIR/SARS-CoV2/analysis/MASC/20210816_V3ARTIC_MASC_analysis/no_sample/no_sample_consensus/no_sample_barcode62.consensus.fasta', '/NGS/active/VIR/SARS-CoV2/analysis/MASC/20210816_V3ARTIC_MASC_analysis/no_sample/no_sample_consensus/no_sample_barcode74.consensus.fasta', '/NGS/active/VIR/SARS-CoV2/analysis/MASC/20210816_V3ARTIC_MASC_analysis/no_sample/no_sample_consensus/no_sample_barcode56.consensus.fasta', '/NGS/active/VIR/SARS-CoV2/analysis/MASC/20210816_V3ARTIC_MASC_analysis/no_sample/no_sample_consensus/no_sample_barcode59.consensus.fasta', '/NGS/active/VIR/SARS-CoV2/analysis/MASC/20210816_V3ARTIC_MASC_analysis/no_sample/no_sample_consensus/no_sample_barcode54.consensus.fasta']\n",
      "CSC:\n",
      "[]\n",
      "KSC:\n",
      "[]\n"
     ]
    }
   ],
   "source": [
    "#checking only\n",
    "print(MASCGRID)\n",
    "print(\"MASC:\\n{}\".format(MASC_FILES))\n",
    "print(\"CSC:\\n{}\".format(CSC_FILES))\n",
    "print(\"KSC:\\n{}\".format(KSC_FILES))"
   ]
  },
  {
   "cell_type": "code",
   "execution_count": 6,
   "metadata": {},
   "outputs": [],
   "source": [
    "# some code to flag already sequenced genomes\n",
    "def check_dups(files):\n",
    "    # get the isolate to barcode path\n",
    "    iso_bc_file_path = Path(os.path.commonpath(files)).parents[0] / 'isolate_to_barcode.csv'\n",
    "\n",
    "    # get the sample numbers from the csv file as a list\n",
    "    # load the csv file in\n",
    "    with open(iso_bc_file_path) as iso_bc_file:\n",
    "        iso_bc_csv = csv.reader(iso_bc_file, delimiter=',')\n",
    "        # gets first col of csv. `if row` checks for empty lines in csv file\n",
    "        samples = [row[0] for row in iso_bc_csv if row]\n",
    "\n",
    "    # get the list of genomes from the consensus directory\n",
    "    GENOMES_PATH_LIST = Path(TARGET_DIR).glob('*.fasta')\n",
    "    genomes = [genome.name for genome in GENOMES_PATH_LIST]\n",
    "    \n",
    "    # check for matches between the samples in the iso_bc file and in already sequenced genomes\n",
    "    # This checks the first 8 chatcaters of the sample name \n",
    "    matching = [g[:8] for g in genomes for s in samples if s[:8] in g]\n",
    "    \n",
    "    if matching:\n",
    "        print(f'These samples seem to alreay have a genome in the {TARGET_DIR}')\n",
    "        print(matching)\n",
    "        print(\"Check that you want to include them in further analysis\")\n",
    "        print('Remove samples from isolate_to_barcode list if you want to skip them')\n",
    "\n",
    "        \n",
    "# run the above function for each samples/site\n",
    "for RUN in [CSC_FILES, KSC_FILES, MASC_FILES]:\n",
    "    if RUN:\n",
    "        check_dups(RUN)"
   ]
  },
  {
   "cell_type": "code",
   "execution_count": 10,
   "metadata": {},
   "outputs": [],
   "source": [
    "#Checking quality\n",
    "\n",
    "#21MV0418\n",
    "#!echo 21MV0427\n",
    "#!grep -o N /NGS/active/VIR/SARS-CoV2/analysis/MASC/20210519_V3ARTIC_MASC_analysis/no_sample/no_sample_consensus/no_sample_barcode77.consensus.fasta | wc -l\n",
    "#!grep -o N /NGS/active/VIR/SARS-CoV2/results/consensus/artic/21MV0427.consensus.fasta | wc -l\n",
    "#!grep '21MV04[6,7,8]' /NGS/active/VIR/SARS-CoV2/results/consensus/artic/quickstats.txt\n",
    "#!grep -o N /NGS/active/VIR/SARS-CoV2/results/consensus/artic/21CH0033.consensus.fasta | wc -l\n",
    "#!grep -o N /NGS/active/VIR/SARS-CoV2/analysis/CSC/20210610_v3ARTIC_CSC_analysis/consensus/20210610_v3ARTIC_CSC_barcode04.consensus.fasta | wc -l\n",
    "#!grep -o N /NGS/active/VIR/SARS-CoV2/results/consensus/artic/21CH0034.consensus.fasta | wc -l\n",
    "#!grep -o N /NGS/active/VIR/SARS-CoV2/analysis/CSC/20210610_v3ARTIC_CSC_analysis/consensus/20210610_v3ARTIC_CSC_barcode05.consensus.fasta | wc -l\n",
    "#21CH0033        4"
   ]
  },
  {
   "cell_type": "code",
   "execution_count": 8,
   "metadata": {},
   "outputs": [
    {
     "name": "stdout",
     "output_type": "stream",
     "text": [
      "GridIon\n",
      "GridIon\n",
      "GridIon\n",
      "/NGS/active/VIR/SARS-CoV2/analysis/MASC/20210819_2_V1200_RAPID_MASC_analysis/no_sample/isolate_to_barcode.csv\n",
      "/NGS/active/VIR/SARS-CoV2/results/consensus/artic/21MV0746.consensus.fasta\n",
      "/NGS/active/VIR/SARS-CoV2/results/consensus/artic/21MV0754.consensus.fasta\n",
      "/NGS/active/VIR/SARS-CoV2/results/consensus/artic/21MV0749.consensus.fasta\n",
      "/NGS/active/VIR/SARS-CoV2/results/consensus/artic/21MV0747.consensus.fasta\n",
      "/NGS/active/VIR/SARS-CoV2/results/consensus/artic/21MV0751.consensus.fasta\n",
      "/NGS/active/VIR/SARS-CoV2/results/consensus/artic/21MV0753.consensus.fasta\n",
      "/NGS/active/VIR/SARS-CoV2/results/consensus/artic/21MV0744.consensus.fasta\n",
      "/NGS/active/VIR/SARS-CoV2/results/consensus/artic/21MV0745.consensus.fasta\n",
      "/NGS/active/VIR/SARS-CoV2/results/consensus/artic/21MV0752.consensus.fasta\n",
      "/NGS/active/VIR/SARS-CoV2/results/consensus/artic/21MV0748.consensus.fasta\n",
      "/NGS/active/VIR/SARS-CoV2/results/consensus/artic/21MV0750.consensus.fasta\n"
     ]
    }
   ],
   "source": [
    "def read_matchfile(matchfile):\n",
    "    bc_s_matching = {}\n",
    "    \n",
    "    with open(matchfile) as mfile:\n",
    "        list_id = csv.reader(mfile)\n",
    "        for aline in list_id:\n",
    "            if len(aline) == 2:\n",
    "                bc = aline[1].strip().upper()\n",
    "                filler=\"\"\n",
    "                if len(bc) < 2:\n",
    "                    filler=\"0\"\n",
    "                bc = filler + bc\n",
    "\n",
    "                bc = bc.replace(\"NB\",\"barcode\")\n",
    "                bc = bc.replace(\"BC\",\"barcode\")\n",
    "                if \"barcode\" not in bc:\n",
    "                    bc = \"barcode\" + bc\n",
    "\n",
    "                sample = aline[0].strip().upper()\n",
    "                bc_s_matching[bc] = sample\n",
    "\n",
    "            else:\n",
    "                if len(aline) == 0:\n",
    "                    continue\n",
    "    \n",
    "    return(bc_s_matching)\n",
    "\n",
    "\n",
    "\n",
    "def match_bc_to_sample(files, seqtype):\n",
    "    print(seqtype)\n",
    "    matchfiles = {}\n",
    "    \n",
    "    for fn in files:\n",
    "        matchfile = \"\"\n",
    "        bc_s_matching = {}\n",
    "        sbc = \"\"\n",
    "        \n",
    "        if seqtype == \"GridIon\":\n",
    "            matchfile = '/'.join(fn.split('/')[0:9])+\"/isolate_to_barcode.csv\"\n",
    "            sbc = fn.split('/')[-1].split('.')[0].split('_')[-1]\n",
    "            # TODO\n",
    "            # Need to adapt to also accept \n",
    "            # 20200817_lib_1_barcode03_medaka.consensus.fasta\n",
    "\n",
    "            if matchfile not in matchfiles:\n",
    "                print(matchfile)\n",
    "                matchfiles[matchfile] = read_matchfile(matchfile)\n",
    "            \n",
    "            bc_s_matching = matchfiles[matchfile]\n",
    "\n",
    "        if seqtype == \"MinIon\":\n",
    "            matchfile = '/'.join(fn.split('/')[0:8])+\"/isolate_to_barcode.csv\"\n",
    "            sbc = fn.split('/')[-1].split('.')[0].split('_')[-1]\n",
    "            #with open(matchfile) as mfile:\n",
    "                #list_id = csv.reader(mfile)\n",
    "                #bc_s_matching = {bc.strip(): sample.strip() for bc, sample in list_id}\n",
    "                \n",
    "            if matchfile not in matchfiles:\n",
    "                print(matchfile)\n",
    "                matchfiles[matchfile] = read_matchfile(matchfile)\n",
    "            \n",
    "            bc_s_matching = matchfiles[matchfile]\n",
    "        \n",
    "        if \"*\" in sbc:\n",
    "            continue\n",
    "        \n",
    "        if sbc not in bc_s_matching:\n",
    "            print(\"MISSING BC: \", sbc, \"missing from:\", matchfile)\n",
    "            continue\n",
    "\n",
    "        if bc_s_matching[sbc] == \"BLANK\":\n",
    "            continue\n",
    "            \n",
    "        #if \"20\" not in bc_s_matching[sbc]:\n",
    "            #print(\"WEIRD FN: \", sbc, matchfile, bc_s_matching[sbc])\n",
    "            #continue\n",
    "        \n",
    "        #print(matchfile)        \n",
    "        #print(sbc)\n",
    "        #print(bc_s_matching)\n",
    "        #if \"20CV\" in bc_s_matching[sbc]:\n",
    "        #    print(sbc, bc_s_matching[sbc], bc_s_matching[sbc], matchfile)\n",
    "        \n",
    "        \n",
    "        if \"20-386832-AK\" in bc_s_matching[sbc]:\n",
    "            print(sbc, bc_s_matching[sbc], matchfile)\n",
    "        #if \"20VR2562\" in bc_s_matching[sbc]:\n",
    "        #    print(sbc, bc_s_matching[sbc], matchfile)\n",
    "        \n",
    "        shutil.copyfile(fn, TARGET_DIR+bc_s_matching[sbc]+\".consensus.fasta\")\n",
    "        #return(True)\n",
    "        print(TARGET_DIR+bc_s_matching[sbc]+\".consensus.fasta\")\n",
    "\n",
    "#match_bc_to_sample(CSC_FILES, \"MinIon\")\n",
    "match_bc_to_sample(CSC_FILES, \"GridIon\")\n",
    "match_bc_to_sample(KSC_FILES, \"GridIon\")\n",
    "match_bc_to_sample(MASC_FILES, \"GridIon\")\n",
    "#expect to some outputs here, if not go back to check the ID bit."
   ]
  },
  {
   "cell_type": "code",
   "execution_count": 10,
   "metadata": {},
   "outputs": [
    {
     "name": "stdout",
     "output_type": "stream",
     "text": [
      "Fix headers to reflect sample ID (taken from file name)\n",
      "DONE\n"
     ]
    }
   ],
   "source": [
    "#change fasta name\n",
    "import os\n",
    "import glob\n",
    "#-------------\n",
    "TARGET_DIR = \"/NGS/active/VIR/SARS-CoV2/results/consensus/artic/\"\n",
    "\n",
    "print(\"Fix headers to reflect sample ID (taken from file name)\")\n",
    "filelist = glob.glob(TARGET_DIR+\"*.fasta\")\n",
    "for afile in filelist:\n",
    "    fname = afile.split('/')[-1].split('.')[0]\n",
    "    os.system('sed -i \"s/^>.*/>{}/gi\" {}'.format(fname, afile))\n",
    "print(\"DONE\")\n",
    "#-------------\n",
    "#echo \"Generating reports\"\n",
    "#grep -Ho N *.fasta | uniq -c > quickstats.txt\n",
    "#python3.5 /NGS/active/VIR/SARS-CoV2/NZ_SARS-CoV-2_genomics/ARTIC/report.py -c /NGS/active/VIR/SARS-CoV2/results/consensus/\n",
    "\n",
    "#echo \"python3.5 /NGS/active/VIR/SARS-CoV2/NZ_SARS-CoV-2_genomics/QC/report.py -c /NGS/active/VIR/SARS-CoV2/results/consensus/ "
   ]
  },
  {
   "cell_type": "code",
   "execution_count": 11,
   "metadata": {},
   "outputs": [],
   "source": [
    "#run N count for artic assemblies\n",
    "!grep -Ho N /NGS/active/VIR/SARS-CoV2/results/consensus/artic/*.fasta | uniq -c >  /NGS/active/VIR/SARS-CoV2/results/consensus/artic/quickstats.txt\n",
    "#!python3.5 /NGS/active/VIR/SARS-CoV2/NZ_SARS-CoV-2_genomics/QC/report.py -c /NGS/active/VIR/SARS-CoV2/results/consensus/artic/"
   ]
  },
  {
   "cell_type": "code",
   "execution_count": 12,
   "metadata": {},
   "outputs": [
    {
     "name": "stdout",
     "output_type": "stream",
     "text": [
      "    800 /NGS/active/VIR/SARS-CoV2/results/consensus/artic/21CH0093.consensus.fasta:N\n",
      "  28895 /NGS/active/VIR/SARS-CoV2/results/consensus/artic/21CH0094.consensus.fasta:N\n",
      "   5061 /NGS/active/VIR/SARS-CoV2/results/consensus/artic/21MV0740.consensus.fasta:N\n",
      "    179 /NGS/active/VIR/SARS-CoV2/results/consensus/artic/21MV0741.consensus.fasta:N\n",
      "    180 /NGS/active/VIR/SARS-CoV2/results/consensus/artic/21MV0742.consensus.fasta:N\n",
      "    178 /NGS/active/VIR/SARS-CoV2/results/consensus/artic/21MV0743.consensus.fasta:N\n",
      "  25496 /NGS/active/VIR/SARS-CoV2/results/consensus/artic/21MV0744.consensus.fasta:N\n",
      "    179 /NGS/active/VIR/SARS-CoV2/results/consensus/artic/21MV0745.consensus.fasta:N\n",
      "    176 /NGS/active/VIR/SARS-CoV2/results/consensus/artic/21MV0746.consensus.fasta:N\n",
      "  29902 /NGS/active/VIR/SARS-CoV2/results/consensus/artic/21MV0747.consensus.fasta:N\n",
      "    176 /NGS/active/VIR/SARS-CoV2/results/consensus/artic/21MV0748.consensus.fasta:N\n",
      "   6954 /NGS/active/VIR/SARS-CoV2/results/consensus/artic/21MV0749.consensus.fasta:N\n",
      "  29902 /NGS/active/VIR/SARS-CoV2/results/consensus/artic/21MV0750.consensus.fasta:N\n",
      "  29902 /NGS/active/VIR/SARS-CoV2/results/consensus/artic/21MV0751.consensus.fasta:N\n",
      "    178 /NGS/active/VIR/SARS-CoV2/results/consensus/artic/21MV0752.consensus.fasta:N\n",
      "    175 /NGS/active/VIR/SARS-CoV2/results/consensus/artic/21MV0753.consensus.fasta:N\n",
      "    183 /NGS/active/VIR/SARS-CoV2/results/consensus/artic/21MV0754.consensus.fasta:N\n"
     ]
    }
   ],
   "source": [
    "#check to maksure files are moved\n",
    "#!grep '21MV042[5,6]'  /NGS/active/VIR/SARS-CoV2/results/consensus/artic/quickstats.txt\n",
    "#!grep '21MV0492'  /NGS/active/VIR/SARS-CoV2/results/consensus/artic/quickstats.txt\n",
    "#!grep '21MV0571'  /NGS/active/VIR/SARS-CoV2/results/consensus/artic/quickstats.txt\n",
    "#!grep '21CH00[6,7]' /NGS/active/VIR/SARS-CoV2/results/consensus/artic/quickstats.txt\n",
    "#!grep '21CV03' /NGS/active/VIR/SARS-CoV2/results/consensus/artic/quickstats.txt\n",
    "!grep '21CH009' /NGS/active/VIR/SARS-CoV2/results/consensus/artic/quickstats.txt\n",
    "!grep '21MV07[4,5]' /NGS/active/VIR/SARS-CoV2/results/consensus/artic/quickstats.txt"
   ]
  },
  {
   "cell_type": "raw",
   "metadata": {},
   "source": [
    "#note!\n",
    " had a compare of the artic reads vs rapid reads, mostly ok, but 21MV0077 is very much worse in the artic run. So I am copying that read back from PASS_QC to prevent it from replacing the good assembly. Still the same lineage."
   ]
  },
  {
   "cell_type": "code",
   "execution_count": 14,
   "metadata": {},
   "outputs": [],
   "source": [
    "#!cp /NGS/active/VIR/SARS-CoV2/results/consensus/PASS_QC/21MV0077.consensus.fasta /NGS/active/VIR/SARS-CoV2/results/consensus/artic/"
   ]
  },
  {
   "cell_type": "markdown",
   "metadata": {},
   "source": [
    "## 2) copy high quality reads\n",
    "<3000N\n",
    "Quite mannual, because of mistakes that happened in the first wave.\n",
    "NOT ALL PASSED READS SHOULD BE IN the PASSED directory, some have the same name\n",
    "\n",
    "**Remember to have look at the out put to make sure is correct before excute the copy command**"
   ]
  },
  {
   "cell_type": "code",
   "execution_count": 13,
   "metadata": {},
   "outputs": [
    {
     "name": "stdout",
     "output_type": "stream",
     "text": [
      "Runs KSC=, MASC=20210819_2_V1200_RAPID_MASC, CSC=\n",
      "\n",
      "\n",
      "cp /NGS/active/VIR/SARS-CoV2/results/consensus/artic/21MV0745.consensus.fasta /NGS/active/VIR/SARS-CoV2/results/consensus/PASS_QC/\n",
      "cp /NGS/active/VIR/SARS-CoV2/results/consensus/artic/21MV0746.consensus.fasta /NGS/active/VIR/SARS-CoV2/results/consensus/PASS_QC/\n",
      "cp /NGS/active/VIR/SARS-CoV2/results/consensus/artic/21MV0748.consensus.fasta /NGS/active/VIR/SARS-CoV2/results/consensus/PASS_QC/\n",
      "cp /NGS/active/VIR/SARS-CoV2/results/consensus/artic/21MV0752.consensus.fasta /NGS/active/VIR/SARS-CoV2/results/consensus/PASS_QC/\n",
      "cp /NGS/active/VIR/SARS-CoV2/results/consensus/artic/21MV0753.consensus.fasta /NGS/active/VIR/SARS-CoV2/results/consensus/PASS_QC/\n",
      "cp /NGS/active/VIR/SARS-CoV2/results/consensus/artic/21MV0754.consensus.fasta /NGS/active/VIR/SARS-CoV2/results/consensus/PASS_QC/\n",
      "\n",
      "Remember to have look at the out put to make sure is correct before excute the copy command\n"
     ]
    },
    {
     "name": "stderr",
     "output_type": "stream",
     "text": [
      "cat: /NGS/active/VIR/SARS-CoV2/analysis/GridIon_assemblies/_analysis/*/isolate_to_barcode.csv: No such file or directory\n",
      "cat: /NGS/active/VIR/SARS-CoV2/analysis/CSC/_analysis//*/isolate_to_barcode.csv: No such file or directory\n"
     ]
    }
   ],
   "source": [
    "%%bash  -s \"$KSC_RUN_ID\" \"$MASC_RUN_ID\" \"$CSC_RUN_ID\"\n",
    "\n",
    "echo \"Runs KSC=$1, MASC=$2, CSC=$3\"\n",
    "\n",
    "echo \"\"\n",
    "echo \"\"\n",
    "KSCRUN_DIR=$(echo \"/NGS/active/VIR/SARS-CoV2/analysis/GridIon_assemblies/$1_analysis\")\n",
    "\n",
    "MASCRUN_DIR=$(echo \"/NGS/active/VIR/SARS-CoV2/analysis/MASC/$2_analysis/\")\n",
    "\n",
    "CSCRUN_DIR=$(echo \"/NGS/active/VIR/SARS-CoV2/analysis/CSC/$3_analysis/\")\n",
    "\n",
    "\n",
    "cat $KSCRUN_DIR/*/isolate_to_barcode.csv $MASCRUN_DIR/*/isolate_to_barcode.csv $CSCRUN_DIR/*/isolate_to_barcode.csv | \\\n",
    "awk 'BEGIN {FS=\",\"} {print $1}' | \\\n",
    "xargs -I {} grep {} /NGS/active/VIR/SARS-CoV2/results/consensus/artic/quickstats.txt |  sed 's/:N//g' | \\\n",
    "awk '$1<3122 {print \"cp\", $2, \"/NGS/active/VIR/SARS-CoV2/results/consensus/PASS_QC/\"}' > copy_passQC.sh\n",
    "\n",
    "cat copy_passQC.sh\n",
    "\n",
    "echo \"\"\n",
    "echo \"Remember to have look at the out put to make sure is correct before excute the copy command\""
   ]
  },
  {
   "cell_type": "code",
   "execution_count": 14,
   "metadata": {},
   "outputs": [],
   "source": [
    "#copy files\n",
    "!bash copy_passQC.sh"
   ]
  },
  {
   "cell_type": "code",
   "execution_count": 15,
   "metadata": {},
   "outputs": [],
   "source": [
    "#generate the quality stats file\n",
    "!grep -Ho N /NGS/active/VIR/SARS-CoV2/results/consensus/PASS_QC/*.fasta | uniq -c >  /NGS/active/VIR/SARS-CoV2/results/consensus/PASS_QC/quickstats.txt\n",
    "#!python3.5 /NGS/active/VIR/SARS-CoV2/NZ_SARS-CoV-2_genomics/QC/report.py -c /NGS/active/VIR/SARS-CoV2/results/consensus/PASS_QC/"
   ]
  },
  {
   "cell_type": "code",
   "execution_count": 16,
   "metadata": {},
   "outputs": [
    {
     "name": "stdout",
     "output_type": "stream",
     "text": [
      "    800 /NGS/active/VIR/SARS-CoV2/results/consensus/PASS_QC/21CH0093.consensus.fasta:N\n",
      "    179 /NGS/active/VIR/SARS-CoV2/results/consensus/PASS_QC/21MV0741.consensus.fasta:N\n",
      "    180 /NGS/active/VIR/SARS-CoV2/results/consensus/PASS_QC/21MV0742.consensus.fasta:N\n",
      "    178 /NGS/active/VIR/SARS-CoV2/results/consensus/PASS_QC/21MV0743.consensus.fasta:N\n",
      "    179 /NGS/active/VIR/SARS-CoV2/results/consensus/PASS_QC/21MV0745.consensus.fasta:N\n",
      "    176 /NGS/active/VIR/SARS-CoV2/results/consensus/PASS_QC/21MV0746.consensus.fasta:N\n",
      "    176 /NGS/active/VIR/SARS-CoV2/results/consensus/PASS_QC/21MV0748.consensus.fasta:N\n",
      "    178 /NGS/active/VIR/SARS-CoV2/results/consensus/PASS_QC/21MV0752.consensus.fasta:N\n",
      "    175 /NGS/active/VIR/SARS-CoV2/results/consensus/PASS_QC/21MV0753.consensus.fasta:N\n",
      "    183 /NGS/active/VIR/SARS-CoV2/results/consensus/PASS_QC/21MV0754.consensus.fasta:N\n"
     ]
    }
   ],
   "source": [
    "#check \n",
    "#!grep '21CH004' /NGS/active/VIR/SARS-CoV2/results/consensus/PASS_QC/quickstats.txt\n",
    "!grep '21CH009' /NGS/active/VIR/SARS-CoV2/results/consensus/PASS_QC/quickstats.txt\n",
    "#!grep '21CV03' /NGS/active/VIR/SARS-CoV2/results/consensus/PASS_QC/quickstats.txt\n",
    "!grep '21MV07[4,5]' /NGS/active/VIR/SARS-CoV2/results/consensus/PASS_QC/quickstats.txt"
   ]
  },
  {
   "cell_type": "markdown",
   "metadata": {},
   "source": [
    "## 3) Run pangolin lineage and assign quality metrics to reads\n",
    "\n",
    "genearte quality metrics and lineage report for reporting\n"
   ]
  },
  {
   "cell_type": "raw",
   "metadata": {},
   "source": [
    "generate lineage\n",
    "in terminal\n",
    "under screen\n",
    "\n",
    "bash /NGS/active/VIR/SARS-CoV2/analysis/pangolin_lineage/run_pangolin.sh"
   ]
  },
  {
   "cell_type": "code",
   "execution_count": 16,
   "metadata": {},
   "outputs": [
    {
     "name": "stdout",
     "output_type": "stream",
     "text": [
      "-rw-rw---- 1 uren SEC_lab_VIR 301744 Aug 18 20:47 /NGS/active/VIR/SARS-CoV2/analysis/pangolin_lineage/all_lineage.csv\n",
      "21CH0087,AY.5,0.0,0.9784709014834538,Delta (B.1.617.2-like),0.923100,0.000000,PLEARN-v1.2.56,3.1.11,2021-08-09,v1.2.56,passed_qc,scorpio call: Alt alleles 12; Ref alleles 0; Amb alleles 1; Oth alleles 0\n",
      "21MV0720,B.1.617.2,0.0,0.9999627629864085,Delta (B.1.617.2-like),1.000000,0.000000,PLEARN-v1.2.56,3.1.11,2021-08-09,v1.2.56,passed_qc,scorpio call: Alt alleles 13; Ref alleles 0; Amb alleles 0; Oth alleles 0\n",
      "21MV0721,B.1.617.2,0.0,0.9999627629864085,Delta (B.1.617.2-like),1.000000,0.000000,PLEARN-v1.2.56,3.1.11,2021-08-09,v1.2.56,passed_qc,scorpio call: Alt alleles 13; Ref alleles 0; Amb alleles 0; Oth alleles 0\n",
      "21MV0722,B.1.617.2,0.0,1.0,Delta (B.1.617.2-like),1.000000,0.000000,PLEARN-v1.2.56,3.1.11,2021-08-09,v1.2.56,passed_qc,scorpio call: Alt alleles 13; Ref alleles 0; Amb alleles 0; Oth alleles 0\n",
      "21MV0723,B.1.617.2,0.0,0.9908691241122759,Delta (B.1.617.2-like),1.000000,0.000000,PLEARN-v1.2.56,3.1.11,2021-08-09,v1.2.56,passed_qc,scorpio call: Alt alleles 13; Ref alleles 0; Amb alleles 0; Oth alleles 0\n"
     ]
    }
   ],
   "source": [
    "#check if the lineage file is up to date:\n",
    "\n",
    "!ls -ltr /NGS/active/VIR/SARS-CoV2/analysis/pangolin_lineage/all_lineage.csv\n",
    "\n",
    "!grep '21CH0087' /NGS/active/VIR/SARS-CoV2/analysis/pangolin_lineage/all_lineage.csv\n",
    "#!grep '21CV03' /NGS/active/VIR/SARS-CoV2/analysis/pangolin_lineage/all_lineage.csv \n",
    "!grep '21MV072' /NGS/active/VIR/SARS-CoV2/analysis/pangolin_lineage/all_lineage.csv \n",
    "#21MV0276 --- a lot missing\n"
   ]
  },
  {
   "cell_type": "code",
   "execution_count": 17,
   "metadata": {},
   "outputs": [],
   "source": [
    "#generate quality\n",
    "!bash /NGS/active/VIR/SARS-CoV2/analysis/BIdownload/microreact/quality_assignment.sh"
   ]
  },
  {
   "cell_type": "code",
   "execution_count": 18,
   "metadata": {},
   "outputs": [
    {
     "name": "stdout",
     "output_type": "stream",
     "text": [
      "800 21CH0093 PASS #0C7BDC\n",
      "28895 21CH0094 FAIL #000000\n",
      "179 21MV0741 HighQuality #FFC20A\n",
      "180 21MV0742 HighQuality #FFC20A\n",
      "178 21MV0743 HighQuality #FFC20A\n",
      "179 21MV0745 HighQuality #FFC20A\n",
      "176 21MV0746 HighQuality #FFC20A\n",
      "176 21MV0748 HighQuality #FFC20A\n",
      "178 21MV0752 HighQuality #FFC20A\n",
      "175 21MV0753 HighQuality #FFC20A\n",
      "183 21MV0754 HighQuality #FFC20A\n",
      "25496 21MV0744 FAIL #000000\n",
      "29902 21MV0747 FAIL #000000\n",
      "29902 21MV0750 FAIL #000000\n",
      "29902 21MV0751 FAIL #000000\n",
      "5061 21MV0740 PARTIAL #87A0B5\n",
      "6954 21MV0749 PARTIAL #87A0B5\n"
     ]
    }
   ],
   "source": [
    "#!grep '21MV05[4,5,7]' /NGS/active/VIR/SARS-CoV2/analysis/BIdownload/microreact/genome_quality.txt\n",
    "#!grep '21CV023' /NGS/active/VIR/SARS-CoV2/analysis/BIdownload/microreact/genome_quality.txt\n",
    "#!grep '21MV06[1,2,3]' /NGS/active/VIR/SARS-CoV2/analysis/BIdownload/microreact/genome_quality.txt\n",
    "!grep 21CH009 /NGS/active/VIR/SARS-CoV2/analysis/BIdownload/microreact/genome_quality.txt\n",
    "!grep 21MV07[4,5] /NGS/active/VIR/SARS-CoV2/analysis/BIdownload/microreact/genome_quality.txt\n"
   ]
  },
  {
   "cell_type": "markdown",
   "metadata": {},
   "source": [
    "## 4) Merge BI and get microreact files ready\n",
    "\n",
    "If using Ben's download:\n",
    "Follow R notebook at:\n",
    "\n",
    "**/NGS/active/VIR/SARS-CoV2/analysis/BIdownload/BI_clean_ben.Rmd**\n",
    "\n",
    "**need R 3.5**\n",
    "\n",
    "Getting no repeat and best quality genomes for same episurve number is problematic, I haven't figured out a way to do it properly. So far I just been updating the new samples which might be the way to go. So I am just adding new ones to make it \"easier\". \n",
    "\n",
    "Manually update sequenced isolates in section of R notenook. Grab information from the isolate_to_barcode.csv from from the latest run. I have been dividing things up in the month the isolate is sequenced lately. This is for record keeping, if you don;t want do it is fine. but it can get worse later on."
   ]
  },
  {
   "cell_type": "markdown",
   "metadata": {},
   "source": [
    "#upload up to do extracts:\n",
    " latest BI extracts from G:\\Environmental Health\\Health\\Research\\SARS_CoV_2   to   /NGS/active/VIR/SARS-CoV2/analysis/BIdownload/\n",
    " lastes epi extracts from G:\\Environmental Health\\Corona Virus 2020\\Surveillance\\Genomics\\Sequencing extract\\epi_genomic_data_latest.csv to /NGS/active/VIR/SARS-CoV2/analysis/BIdownload/\n",
    " \n",
    "**Run the cell below and enter user name and password when prompted.**"
   ]
  },
  {
   "cell_type": "code",
   "execution_count": 19,
   "metadata": {},
   "outputs": [
    {
     "name": "stdin",
     "output_type": "stream",
     "text": [
      " jwang\n",
      " ··············\n"
     ]
    },
    {
     "name": "stdout",
     "output_type": "stream",
     "text": [
      "\n",
      "Latest BI file: BI000253-Covid-19-2021-08-20-04-30-47.xlsx\n",
      "\n",
      "Copied Business Services\\Business Intelligence\\Data Extracts\\BusinessObjects\\Environmental Health\\VIR_COVIDBI000253-Covid-19-2021-08-20-04-30-47.xlsx to /NGS/active/VIR/SARS-CoV2/analysis/BIdownload/\n",
      "\n",
      "Copied Environmental Health\\Corona Virus 2020\\Surveillance\\Genomics\\Sequencing extract\\epi_genomic_data_latest.csv to /NGS/active/VIR/SARS-CoV2/analysis/BIdownload/\n",
      "\n",
      "Move to next cell!\n"
     ]
    }
   ],
   "source": [
    "from smb.SMBConnection import SMBConnection\n",
    "import datetime\n",
    "import getpass\n",
    "\n",
    "userID = input(\"\")\n",
    "password = getpass.getpass(\"\")\n",
    "\n",
    "# move the BI file\n",
    "client_machine_name = 'kscprod-bio3'\n",
    "server_fs003 = 'esrprod-fs003'\n",
    "share = \"Applications\"\n",
    "\n",
    "source_path = r\"Business Services\\Business Intelligence\\Data Extracts\\BusinessObjects\\Environmental Health\\VIR_COVID\"\n",
    "\n",
    "conn = SMBConnection(userID, password, client_machine_name, server_fs003, domain=\"ESR-AD\", use_ntlm_v2=True, is_direct_tcp=True)\n",
    "\n",
    "\n",
    "assert conn.connect(server_fs003, 445)\n",
    "\n",
    "sharedfiles = conn.listPath(share, source_path)\n",
    "# for sharedfile in sharedfiles:\n",
    "#     print(sharedfile.filename)\n",
    "\n",
    "today_date_obj = datetime.datetime.now()\n",
    "\n",
    "# parse file names to check for correct formatting\n",
    "# find name of latest file by checking against todays date\n",
    "for file in sharedfiles:\n",
    "    if file.filename.startswith('BI000253-Covid-19'):\n",
    "        if file.filename.endswith('.xlsx'):\n",
    "            file_date_str = file.filename.replace('BI000253-Covid-19-', '').replace('.xlsx', '')\n",
    "            file_date_ojb = datetime.datetime.strptime(file_date_str, '%Y-%m-%d-%H-%M-%S')\n",
    "            if file_date_ojb.strftime(\"%Y-%m-%d\") == today_date_obj.strftime(\"%Y-%m-%d\"):\n",
    "                print('')\n",
    "                print(f'Latest BI file: {file.filename}\\n')\n",
    "                latest_BI_file = file.filename\n",
    "\n",
    "\n",
    "# download the files to '/NGS/active/VIR/SARS-CoV2/analysis/BIdownload/'\n",
    "dest_path = '/NGS/active/VIR/SARS-CoV2/analysis/BIdownload/'\n",
    "\n",
    "with open(dest_path+latest_BI_file, 'wb') as fp:\n",
    "    conn.retrieveFile(share, source_path+'\\\\'+latest_BI_file, fp)\n",
    "\n",
    "print(f'Copied {source_path+latest_BI_file} to {dest_path}\\n')\n",
    "\n",
    "\n",
    "# move the \"epi_genomic_data_latest.csv\" file\n",
    "epi_genomic_data_latest = 'Environmental Health\\Corona Virus 2020\\Surveillance\\Genomics\\Sequencing extract\\epi_genomic_data_latest.csv'\n",
    "server_FS100 = 'kscprod-FS100'\n",
    "share = \"Groups\"\n",
    "\n",
    "conn = SMBConnection(userID, password, client_machine_name, server_FS100, domain=\"ESR-AD\", use_ntlm_v2=True, is_direct_tcp=True)\n",
    "\n",
    "assert conn.connect(server_FS100, 445)\n",
    "\n",
    "with open(dest_path+'epi_genomic_data_latest.csv', 'wb') as fp:\n",
    "    conn.retrieveFile(share, epi_genomic_data_latest, fp)\n",
    "\n",
    "print(f'Copied {epi_genomic_data_latest} to {dest_path}\\n')\n",
    "print('Move to next cell!')\n"
   ]
  },
  {
   "cell_type": "markdown",
   "metadata": {},
   "source": [
    " Do next step to convert \n",
    " \n",
    " BI extracts is excel so need to be converted. I can't get R to read the date correctly some how\n",
    " \n",
    " <font color=red> We should run next TWO blocks before going to R markdown </font>"
   ]
  },
  {
   "cell_type": "code",
   "execution_count": 20,
   "metadata": {},
   "outputs": [
    {
     "name": "stdout",
     "output_type": "stream",
     "text": [
      "2021-08-20\n"
     ]
    }
   ],
   "source": [
    "%%bash\n",
    "now=$(date +\"%Y-%m-%d\")\n",
    "echo $now\n",
    "/home/uren/bin/xlsx2csv/xlsx2csv.py -d \"\\t\" /NGS/active/VIR/SARS-CoV2/analysis/BIdownload/BI000253-Covid-19-$now*.xlsx > /NGS/active/VIR/SARS-CoV2/analysis/BIdownload/BI_mostrecent.tsv"
   ]
  },
  {
   "cell_type": "raw",
   "metadata": {},
   "source": [
    "The below bit makes the isolate list to be added to the sequenced list in the R notebook\n",
    "Run this before executing th R notebook. Add the output to \"Runs block\" "
   ]
  },
  {
   "cell_type": "code",
   "execution_count": 19,
   "metadata": {},
   "outputs": [
    {
     "name": "stdout",
     "output_type": "stream",
     "text": [
      "Runs KSC=, MASC=20210819_2_V1200_RAPID_MASC, CSC=\n",
      "copy and paste output into R notebook\n",
      "\n",
      "\n",
      "\"21MV0744\", \"21MV0745\", \"21MV0746\", \"21MV0747\", \"21MV0748\", \"21MV0749\", \"21MV0750\", \"21MV0751\", \"21MV0752\", \"21MV0753\", \"21MV0754\"\n",
      "\n",
      "\n"
     ]
    },
    {
     "name": "stderr",
     "output_type": "stream",
     "text": [
      "cat: /NGS/active/VIR/SARS-CoV2/analysis/GridIon_assemblies/_analysis/*/isolate_to_barcode.csv: No such file or directory\n",
      "cat: /NGS/active/VIR/SARS-CoV2/analysis/CSC/_analysis//*/isolate_to_barcode.csv: No such file or directory\n"
     ]
    }
   ],
   "source": [
    "%%bash  -s \"$KSC_RUN_ID\" \"$MASC_RUN_ID\" \"$CSC_RUN_ID\"\n",
    "\n",
    "echo \"Runs KSC=$1, MASC=$2, CSC=$3\"\n",
    "echo \"copy and paste output into R notebook\"\n",
    "echo \"\"\n",
    "echo \"\"\n",
    "\n",
    "KSCRUN_DIR=$(echo \"/NGS/active/VIR/SARS-CoV2/analysis/GridIon_assemblies/$1_analysis\")\n",
    "\n",
    "MASCRUN_DIR=$(echo \"/NGS/active/VIR/SARS-CoV2/analysis/MASC/$2_analysis/\")\n",
    "\n",
    "CSCRUN_DIR=$(echo \"/NGS/active/VIR/SARS-CoV2/analysis/CSC/$3_analysis/\")\n",
    "\n",
    "\n",
    "cat $KSCRUN_DIR/*/isolate_to_barcode.csv $MASCRUN_DIR/*/isolate_to_barcode.csv $CSCRUN_DIR/*/isolate_to_barcode.csv | \\\n",
    "awk 'BEGIN {FS=\",\"} {print $1}' | \\\n",
    "xargs | sed 's/ /\", \"/g' | sed 's/^/\"/g' | sed 's/$/\"/g'\n",
    "\n",
    "echo \"\"\n",
    "echo \"\""
   ]
  },
  {
   "cell_type": "markdown",
   "metadata": {},
   "source": [
    "## 5) Update alignment and trees POST-1st-wave\n",
    "\n",
    "## There are two datasets that are fixed and no need to manupulate\n",
    "1) Jemma's dataset: paper_less300.fasta and paper_inbetween.fasta  \n",
    "2) post-paper and pre-2nd wave: post_paper_pre_2nd_wave.less300.fasta and ost_paper_pre_2nd_wave.inbetween.fasta  \n",
    "LEAVE these files do not delete.\n",
    "\n",
    "#### if the sample is not in the BI download, it is not going to show up in the norep alignment. And the BI download is about 24hr later, only extracted once a day in the early morning. For urgent samples, can add the isolate to directly to the alignment from last full update. I generally give a quick result for epi folks and update microreact \"pretty\" tree the next morning."
   ]
  },
  {
   "cell_type": "markdown",
   "metadata": {},
   "source": [
    "### 5a) gather the consensus files to align"
   ]
  },
  {
   "cell_type": "code",
   "execution_count": 57,
   "metadata": {},
   "outputs": [
    {
     "name": "stdout",
     "output_type": "stream",
     "text": [
      "/NGS/active/VIR/SARS-CoV2/analysis/alignment_clustering/clean_dataset\n",
      "/NGS/active/VIR/SARS-CoV2/analysis/alignment_clustering/clean_dataset\n"
     ]
    }
   ],
   "source": [
    "%cd /NGS/active/VIR/SARS-CoV2/analysis/alignment_clustering/clean_dataset\n",
    "!pwd"
   ]
  },
  {
   "cell_type": "code",
   "execution_count": 58,
   "metadata": {},
   "outputs": [
    {
     "name": "stdout",
     "output_type": "stream",
     "text": [
      "21CH0094\n",
      "21MV0746\n",
      "21MV0749\n",
      "21MV0748\n",
      "21MV0747\n",
      "21MV0744\n",
      "21MV0743\n",
      "21MV0742\n",
      "21MV0741\n",
      "21MV0740\n",
      "21MV0745\n",
      "21MV0754\n",
      "21MV0753\n"
     ]
    }
   ],
   "source": [
    "!grep '21CH0094' clean_samples.txt\n",
    "!grep '21MV07[4,5]' clean_samples.txt"
   ]
  },
  {
   "cell_type": "code",
   "execution_count": 59,
   "metadata": {},
   "outputs": [
    {
     "name": "stdout",
     "output_type": "stream",
     "text": [
      "537 new_less300.txt\n",
      "/NGS/active/VIR/SARS-CoV2/results/consensus/PASS_QC/21MV0713.consensus.fasta\n",
      "/NGS/active/VIR/SARS-CoV2/results/consensus/PASS_QC/21MV0714.consensus.fasta\n",
      "/NGS/active/VIR/SARS-CoV2/results/consensus/PASS_QC/21MV0715.consensus.fasta\n",
      "/NGS/active/VIR/SARS-CoV2/results/consensus/PASS_QC/21MV0716.consensus.fasta\n",
      "/NGS/active/VIR/SARS-CoV2/results/consensus/PASS_QC/21MV0717.consensus.fasta\n",
      "/NGS/active/VIR/SARS-CoV2/results/consensus/PASS_QC/21MV0718.consensus.fasta\n",
      "/NGS/active/VIR/SARS-CoV2/results/consensus/PASS_QC/21MV0719.consensus.fasta\n",
      "/NGS/active/VIR/SARS-CoV2/results/consensus/PASS_QC/21MV0720.consensus.fasta\n",
      "/NGS/active/VIR/SARS-CoV2/results/consensus/PASS_QC/21MV0721.consensus.fasta\n",
      "/NGS/active/VIR/SARS-CoV2/results/consensus/PASS_QC/21MV0722.consensus.fasta\n",
      "/NGS/active/VIR/SARS-CoV2/results/consensus/PASS_QC/21MV0723.consensus.fasta\n",
      "/NGS/active/VIR/SARS-CoV2/results/consensus/PASS_QC/21MV0724.consensus.fasta\n",
      "/NGS/active/VIR/SARS-CoV2/results/consensus/PASS_QC/21MV0725.consensus.fasta\n",
      "/NGS/active/VIR/SARS-CoV2/results/consensus/PASS_QC/21MV0728.consensus.fasta\n",
      "/NGS/active/VIR/SARS-CoV2/results/consensus/PASS_QC/21MV0730.consensus.fasta\n",
      "/NGS/active/VIR/SARS-CoV2/results/consensus/PASS_QC/21MV0732.consensus.fasta\n",
      "/NGS/active/VIR/SARS-CoV2/results/consensus/PASS_QC/21MV0735.consensus.fasta\n",
      "/NGS/active/VIR/SARS-CoV2/results/consensus/PASS_QC/21MV0736.consensus.fasta\n",
      "/NGS/active/VIR/SARS-CoV2/results/consensus/PASS_QC/21MV0739.consensus.fasta\n",
      "/NGS/active/VIR/SARS-CoV2/results/consensus/PASS_QC/21MV0741.consensus.fasta\n",
      "/NGS/active/VIR/SARS-CoV2/results/consensus/PASS_QC/21MV0742.consensus.fasta\n",
      "/NGS/active/VIR/SARS-CoV2/results/consensus/PASS_QC/21MV0743.consensus.fasta\n",
      "/NGS/active/VIR/SARS-CoV2/results/consensus/PASS_QC/21MV0745.consensus.fasta\n",
      "/NGS/active/VIR/SARS-CoV2/results/consensus/PASS_QC/21MV0746.consensus.fasta\n",
      "/NGS/active/VIR/SARS-CoV2/results/consensus/PASS_QC/21MV0748.consensus.fasta\n",
      "/NGS/active/VIR/SARS-CoV2/results/consensus/PASS_QC/21MV0752.consensus.fasta\n",
      "/NGS/active/VIR/SARS-CoV2/results/consensus/PASS_QC/21MV0753.consensus.fasta\n",
      "/NGS/active/VIR/SARS-CoV2/results/consensus/PASS_QC/21MV0754.consensus.fasta\n"
     ]
    }
   ],
   "source": [
    "!grep 'CV\\|MV\\|CH' /NGS/active/VIR/SARS-CoV2/results/consensus/PASS_QC/quickstats.txt | awk '$1 < 423 {print $2}' | sed 's/:N//g' > new_less300.txt \n",
    "!wc -l new_less300.txt\n",
    "!grep '21MV07' new_less300.txt"
   ]
  },
  {
   "cell_type": "code",
   "execution_count": 60,
   "metadata": {},
   "outputs": [],
   "source": [
    "!grep '21MV0731' new_inbetween.txt"
   ]
  },
  {
   "cell_type": "code",
   "execution_count": 61,
   "metadata": {},
   "outputs": [
    {
     "name": "stdout",
     "output_type": "stream",
     "text": [
      "302 new_inbetween.txt\n"
     ]
    }
   ],
   "source": [
    "!grep 'CV\\|MV\\|CH' /NGS/active/VIR/SARS-CoV2/results/consensus/PASS_QC/quickstats.txt |  awk '$1 > 422 && $1 < 3122 {print $2}' | sed 's/:N//g' > new_inbetween.txt\n",
    "!wc -l new_inbetween.txt\n",
    "!grep '21MV066' new_inbetween.txt"
   ]
  },
  {
   "cell_type": "code",
   "execution_count": 62,
   "metadata": {},
   "outputs": [
    {
     "name": "stdout",
     "output_type": "stream",
     "text": [
      "548 new_less300.txt\n",
      "555 new_less300.txt\n"
     ]
    }
   ],
   "source": [
    "!grep '20VR3[8-9]' /NGS/active/VIR/SARS-CoV2/results/consensus/PASS_QC/quickstats.txt | awk '$1 < 423 {print $2}' | sed 's/:N//g' >> new_less300.txt\n",
    "!wc -l new_less300.txt\n",
    "!grep '20VR37[4,5,7-9]' /NGS/active/VIR/SARS-CoV2/results/consensus/PASS_QC/quickstats.txt | awk '$1 < 423 {print $2}' | sed 's/:N//g' >> new_less300.txt\n",
    "!wc -l new_less300.txt"
   ]
  },
  {
   "cell_type": "code",
   "execution_count": 63,
   "metadata": {},
   "outputs": [
    {
     "name": "stdout",
     "output_type": "stream",
     "text": [
      "321 new_inbetween.txt\n",
      "326 new_inbetween.txt\n"
     ]
    }
   ],
   "source": [
    "!grep '20VR3[8-9]' /NGS/active/VIR/SARS-CoV2/results/consensus/PASS_QC/quickstats.txt |  awk '$1 > 422 && $1 < 3122 {print $2}' | sed 's/:N//g' >> new_inbetween.txt\n",
    "!wc -l new_inbetween.txt\n",
    "!grep '20VR37[4,5,7-9]' /NGS/active/VIR/SARS-CoV2/results/consensus/PASS_QC/quickstats.txt |  awk '$1 > 422 && $1 < 3122 {print $2}' | sed 's/:N//g' >> new_inbetween.txt\n",
    "!wc -l new_inbetween.txt"
   ]
  },
  {
   "cell_type": "code",
   "execution_count": 64,
   "metadata": {},
   "outputs": [
    {
     "name": "stdout",
     "output_type": "stream",
     "text": [
      "224 partial.txt\n"
     ]
    }
   ],
   "source": [
    "!cat /NGS/active/VIR/SARS-CoV2/results/consensus/artic/quickstats.txt | grep 'CV\\|MV\\|CH' | awk '$1 > 3123 && $1 < 11200  {print $2}' | sed 's/:N//g' > partial.txt\n",
    "!cat /NGS/active/VIR/SARS-CoV2/results/consensus/artic/quickstats.txt | grep '20VR' | awk '$1 > 3123 && $1 < 11200  {print $2}' | sed 's/:N//g' | grep -v '3783' | \\\n",
    "grep -v '20VR0465' | grep -v '20VR0462' >> partial.txt\n",
    "!wc -l partial.txt"
   ]
  },
  {
   "cell_type": "code",
   "execution_count": 65,
   "metadata": {},
   "outputs": [
    {
     "name": "stdout",
     "output_type": "stream",
     "text": [
      "555\n"
     ]
    }
   ],
   "source": [
    "#high quality genomes\n",
    "!rm new_less300.fasta\n",
    "!for i in $(cat new_less300.txt); do cat $i >> new_less300.fasta; done\n",
    "!grep -c '>' new_less300.fasta"
   ]
  },
  {
   "cell_type": "code",
   "execution_count": 66,
   "metadata": {},
   "outputs": [
    {
     "name": "stdout",
     "output_type": "stream",
     "text": [
      ">21CV0234\n",
      ">21CV0235\n",
      ">21MV0741\n",
      ">21MV0742\n",
      ">21MV0743\n",
      ">21MV0745\n",
      ">21MV0746\n",
      ">21MV0748\n",
      ">21MV0752\n",
      ">21MV0753\n",
      ">21MV0754\n"
     ]
    }
   ],
   "source": [
    "!grep '21CV023' new_less300.fasta\n",
    "!grep '21CH009' new_less300.fasta\n",
    "!grep '21MV07[4,5]' new_less300.fasta"
   ]
  },
  {
   "cell_type": "code",
   "execution_count": 67,
   "metadata": {},
   "outputs": [
    {
     "name": "stdout",
     "output_type": "stream",
     "text": [
      "326\n"
     ]
    }
   ],
   "source": [
    "#pass genomes\n",
    "!rm new_inbetween.fasta\n",
    "!for i in $(cat new_inbetween.txt); do cat $i >> new_inbetween.fasta; done\n",
    "!grep -c '>' new_inbetween.fasta"
   ]
  },
  {
   "cell_type": "code",
   "execution_count": 68,
   "metadata": {},
   "outputs": [],
   "source": [
    "!grep '21MV07[4,5]' new_inbetween.fasta"
   ]
  },
  {
   "cell_type": "code",
   "execution_count": 69,
   "metadata": {},
   "outputs": [
    {
     "name": "stdout",
     "output_type": "stream",
     "text": [
      ">21CH0093\n"
     ]
    }
   ],
   "source": [
    "!grep '21CH009' new_inbetween.fasta"
   ]
  },
  {
   "cell_type": "code",
   "execution_count": 70,
   "metadata": {},
   "outputs": [
    {
     "name": "stdout",
     "output_type": "stream",
     "text": [
      "224\n"
     ]
    }
   ],
   "source": [
    "#partial genomes\n",
    "!rm /NGS/active/VIR/SARS-CoV2/analysis/alignment_clustering/isolation/other.fasta\n",
    "!for i in $(cat partial.txt); do cat $i >> /NGS/active/VIR/SARS-CoV2/analysis/alignment_clustering/isolation/other.fasta; done\n",
    "!grep -c '>' /NGS/active/VIR/SARS-CoV2/analysis/alignment_clustering/isolation/other.fasta"
   ]
  },
  {
   "cell_type": "code",
   "execution_count": 71,
   "metadata": {},
   "outputs": [],
   "source": [
    "#add other samples\n",
    "#!cat /NGS/active/VIR/SARS-CoV2/analysis/alignment_clustering/clean_dataset/qld_20201028.fasta >> new_less300.fasta\n",
    "!cat /NGS/active/VIR/SARS-CoV2/results/consensus/massey/WMY7176-2020-11-15.fasta >> new_less300.fasta\n",
    "!cat /NGS/active/VIR/SARS-CoV2/results/consensus/massey/MMX1994-2020-11-25.fasta >> new_less300.fasta\n",
    "#!cat /NGS/active/VIR/SARS-CoV2/analysis/alignment_clustering/clean_dataset/UK_B.1.1.7_lineage.fasta >> new_less300.fasta\n",
    "#!cat /NGS/active/VIR/SARS-CoV2/analysis/alignment_clustering/clean_dataset/SA_B.1.351.fasta >> new_less300.fasta\n",
    "#!cat /NGS/active/VIR/SARS-CoV2/analysis/alignment_clustering/clean_dataset/NSW_1220_cluster.fasta >> new_less300.fasta\n",
    "!cat /NGS/active/VIR/SARS-CoV2/results/consensus/massey/RZ8730-2020-12-12.fasta >> new_less300.fasta\n",
    "#!cat /NGS/active/VIR/SARS-CoV2/analysis/alignment_clustering/clean_dataset/QLD1612.consensus.fasta >> new_less300.fasta\n",
    "#!cat /NGS/active/VIR/SARS-CoV2/analysis/alignment_clustering/clean_dataset/QLD1617.consensus.fasta >> new_less300.fasta\n",
    "#!cat /NGS/active/VIR/SARS-CoV2/analysis/alignment_clustering/clean_dataset/QLD1623.consensus.fasta >> new_less300.fasta\n",
    "!cat /NGS/active/VIR/SARS-CoV2/results/consensus/PASS_QC/20VR3131.consensus.fasta >> new_inbetween.fasta\n",
    "#!cat /NGS/active/VIR/SARS-CoV2/analysis/alignment_clustering/clean_dataset/P.3.fasta >> new_less300.fasta\n",
    "!cat /NGS/active/VIR/SARS-CoV2/analysis/alignment_clustering/clean_dataset/NSW1633.fasta >> new_less300.fasta\n",
    "!cat /NGS/active/VIR/SARS-CoV2/analysis/alignment_clustering/clean_dataset/NSW1644.fasta >> new_less300.fasta\n",
    "!cat /NGS/active/VIR/SARS-CoV2/analysis/alignment_clustering/clean_dataset/20210621-NSW_traveller.fasta >> new_less300.fasta\n",
    "!cat /NGS/active/VIR/SARS-CoV2/analysis/alignment_clustering/clean_dataset/QLD1965.fasta >> new_less300.fasta\n",
    "!cat /NGS/active/VIR/SARS-CoV2/results/consensus/QLD/QLD2123.fasta >> new_less300.fasta\n",
    "!cat /NGS/active/VIR/SARS-CoV2/results/consensus/nsw/gisaid_hcov-19_2021_08_17_10.fasta >> new_less300.fasta\n",
    "\n",
    "# NSW genomes\n",
    "!cat /NGS/active/VIR/SARS-CoV2/analysis/alignment_clustering/B.1.617/matches_on_gisaid.fasta >> new_inbetween.fasta \n",
    "!cat /NGS/active/VIR/SARS-CoV2/analysis/alignment_clustering/B.1.617/matches_not_on_gisaid.fasta >> new_inbetween.fasta \n",
    "#change their names\n",
    "#!sed -i 's|hCoV-19/South Africa/N00390/2020|SA|' new_less300.fasta\n",
    "#!sed -i 's|hCoV-19/England/MILK-9E05B3/2020|UK|' new_less300.fasta\n",
    "#!sed -i 's|hCoV-19/Australia/NSW1220/2020|NSW|' new_less300.fasta"
   ]
  },
  {
   "cell_type": "code",
   "execution_count": 72,
   "metadata": {},
   "outputs": [],
   "source": [
    "#add the unregistered samples to clean_samples.txt\n",
    "#!grep '20-' less300_unaligned.fasta inbetween_unaligned.fasta | awk 'BEGIN {FS=\">\"} {print $2}' > unregistered.txt\n",
    "#!cat unregistered.txt\n",
    "#!cat unregistered.txt >> clean_samples.txt\n",
    "#add queensland sample\n",
    "#!echo \"Australia/QLD1147/2020\" >> clean_samples.txt\n",
    "#add isolate not in BI yet\n",
    "#!echo \"20CV0563\" >> clean_samples.txt\n",
    "!echo \"20-389834-AK\" >> clean_samples.txt\n",
    "#!echo \"UK|EPI_ISL_601443|2020-09-20\" >> clean_samples.txt\n",
    "#!echo \"SA|EPI_ISL_712081|2020-10-08\" >> clean_samples.txt\n",
    "#!echo \"NSW|EPI_ISL_708799|2020-12-15\" >> clean_samples.txt\n",
    "!echo \"RZ8730-2020-12-12\" >> clean_samples.txt\n",
    "#!echo \"QLD1612|EPI_ISL_1061310\" >> clean_samples.txt\n",
    "#!echo \"QLD1617|EPI_ISL_1121040\" >> clean_samples.txt\n",
    "#!echo \"QLD1623|EPI_ISL_1137505\" >> clean_samples.txt\n",
    "#!echo \"PH-PGC-04810|EPI_ISL_1122426|2021-02-02\" >> clean_samples.txt\n",
    "#!echo \"PH-PGC-04784|EPI_ISL_1122435|2021-02-02\" >> clean_samples.txt\n",
    "#echo \"PH-PGC-04811|EPI_ISL_1122449|2021-02-02\" >> clean_samples.txt\n",
    "!echo \"21-010-0956-AR_ivar\" >> clean_samples.txt\n",
    "!echo \"21-010-0978msq-AR_ivar\" >> clean_samples.txt\n",
    "!echo \"21-010-1017msq-AR_ivar\" >> clean_samples.txt\n",
    "!echo \"QLD1965|EPI_ISL_2695790|2021-06-27\" >> clean_samples.txt\n",
    "!echo \"QLD2123|EPI_ISL_3247202|2021-08-01\" >> clean_samples.txt\n",
    "#!echo \"NSW4771|EPI_ISL_2633515|2021-06-21\" >> clean_samples.txt\n",
    "#!echo \"NSW4772|EPI_ISL_2633520|2021-06-21\" >> clean_samples.txt\n",
    "#!echo \"NSW4773|EPI_ISL_2633525|2021-06-21\" >> clean_samples.txt\n",
    "#!echo \"NSW4775|EPI_ISL_2650011|2021-06-22\" >> clean_samples.txt\n",
    "#!echo \"NSW4776|EPI_ISL_2650012|2021-06-22\" >> clean_samples.txt\n",
    "\n",
    "#!echo \"RX2143\" >> clean_samples.txt"
   ]
  },
  {
   "cell_type": "code",
   "execution_count": 11,
   "metadata": {},
   "outputs": [
    {
     "name": "stdout",
     "output_type": "stream",
     "text": [
      "/NGS/active/VIR/SARS-CoV2/analysis/alignment_clustering/clean_dataset\n",
      "NSW4771|EPI_ISL_2633515|2021-06-21\n",
      "NSW4772|EPI_ISL_2633520|2021-06-21\n",
      "NSW4773|EPI_ISL_2633525|2021-06-21\n",
      "NSW4775|EPI_ISL_2650011|2021-06-22\n",
      "NSW4776|EPI_ISL_2650012|2021-06-22\n",
      "2453 clean_samples.txt\n",
      "2448 new.clean_samples.txt\n"
     ]
    }
   ],
   "source": [
    "#pwd\n",
    "#grep NSW477 clean_samples.txt\n",
    "#cp clean_samples.txt bup.clean_samples.txt\n",
    "#wc -l clean_samples.txt\n",
    "#grep -v NSW477 clean_samples.txt > new.clean_samples.txt\n",
    "#wc -l new.clean_samples.txt\n",
    "#mv new.clean_samples.txt clean_samples.txt"
   ]
  },
  {
   "cell_type": "code",
   "execution_count": 73,
   "metadata": {},
   "outputs": [],
   "source": [
    "# Dirty NSW genomes cleaned up (don't re-run)\n",
    "!grep '>' /NGS/active/VIR/SARS-CoV2/analysis/alignment_clustering/B.1.617/matches_on_gisaid.fasta | sed 's\\>\\\\g' >> clean_samples.txt\n",
    "!grep '>' /NGS/active/VIR/SARS-CoV2/analysis/alignment_clustering/B.1.617/matches_not_on_gisaid.fasta | sed 's\\>\\\\g' >> clean_samples.txt"
   ]
  },
  {
   "cell_type": "code",
   "execution_count": 74,
   "metadata": {},
   "outputs": [
    {
     "name": "stdout",
     "output_type": "stream",
     "text": [
      "20CV0396\n",
      "20CV0397\n",
      "20CV0398\n",
      "20CV0399\n",
      "20VR3131\n",
      "20-389834-AK\n",
      "RZ8730-2020-12-12\n",
      "21-010-0956-AR_ivar\n",
      "21-010-0978msq-AR_ivar\n",
      "21-010-1017msq-AR_ivar\n",
      "QLD1965|EPI_ISL_2695790|2021-06-27\n",
      "QLD2123|EPI_ISL_3247202|2021-08-01\n",
      "21-010-5891\n",
      "21-010-5892\n",
      "21-010-6026\n",
      "21-010-6030\n",
      "21-010-6289\n",
      "21-010-6335\n",
      "21-010-6358\n",
      "21-010-6747\n",
      "21-010-6753\n",
      "21-010-5141\n",
      "21-010-6413\n",
      "21-010-6795\n",
      "21-010-6947\n",
      "21-010-6965\n",
      "21-010-6973\n",
      "21-010-7722\n",
      "21-010-7734\n",
      "21-010-7776\n"
     ]
    }
   ],
   "source": [
    "!tail -30 clean_samples.txt"
   ]
  },
  {
   "cell_type": "code",
   "execution_count": 13,
   "metadata": {},
   "outputs": [],
   "source": []
  },
  {
   "cell_type": "code",
   "execution_count": 75,
   "metadata": {},
   "outputs": [
    {
     "name": "stdout",
     "output_type": "stream",
     "text": [
      "QLD1965|EPI_ISL_2695790|2021-06-27\n",
      "QLD2123|EPI_ISL_3247202|2021-08-01\n",
      "21-010-0978msq-AR_ivar\n",
      "21MV0596\n",
      ">21-010-1017msq-AR_ivar\n"
     ]
    }
   ],
   "source": [
    "!grep 'EPI' clean_samples.txt\n",
    "!grep '21-010-0978msq-AR_ivar' clean_samples.txt\n",
    "!grep '21MV0596' clean_samples.txt\n",
    "!grep '>' /NGS/active/VIR/SARS-CoV2/analysis/alignment_clustering/clean_dataset/20210621-NSW_traveller.fasta"
   ]
  },
  {
   "cell_type": "code",
   "execution_count": 84,
   "metadata": {},
   "outputs": [
    {
     "name": "stdout",
     "output_type": "stream",
     "text": [
      "inbetween_unaligned.fasta:>21MV0733\n",
      "inbetween_unaligned.fasta:>21MV0733\n",
      "inbetween_unaligned_nrep.fasta:>21MV0733\n",
      "new_inbetween.fasta:>21MV0733\n"
     ]
    }
   ],
   "source": [
    "#!grep '21CH008' *.fasta\n",
    "!grep '21MV073' *inbetween*fasta"
   ]
  },
  {
   "cell_type": "code",
   "execution_count": 83,
   "metadata": {},
   "outputs": [
    {
     "name": "stdout",
     "output_type": "stream",
     "text": [
      "bup.new_inbetween.fasta  paper_inbetween.fasta\n",
      "new_inbetween.fasta\t post_paper_pre_2nd_wave.inbetween.fasta\n"
     ]
    }
   ],
   "source": [
    "!ls *inbetween.fasta"
   ]
  },
  {
   "cell_type": "markdown",
   "metadata": {},
   "source": [
    "**please run the cell below to get the number of fasta from the previous run**  \n",
    "To keep track if we are missing isolates"
   ]
  },
  {
   "cell_type": "code",
   "execution_count": 77,
   "metadata": {},
   "outputs": [
    {
     "name": "stdout",
     "output_type": "stream",
     "text": [
      "inbetween_unaligned.fasta:828\n",
      "less300_unaligned.fasta:1084\n"
     ]
    }
   ],
   "source": [
    "!grep -c '>' *_unaligned.fasta"
   ]
  },
  {
   "cell_type": "code",
   "execution_count": 85,
   "metadata": {},
   "outputs": [],
   "source": [
    "!cat *inbetween.fasta > inbetween_unaligned.fasta\n",
    "!cat *less300.fasta > less300_unaligned.fasta"
   ]
  },
  {
   "cell_type": "code",
   "execution_count": 87,
   "metadata": {},
   "outputs": [
    {
     "name": "stdout",
     "output_type": "stream",
     "text": [
      "inbetween_unaligned.fasta:501\n",
      "less300_unaligned.fasta:1084\n",
      "less300_unaligned.fasta:>QLD1965|EPI_ISL_2695790|2021-06-27\n",
      "less300_unaligned.fasta:>QLD2123|EPI_ISL_3247202|2021-08-01\n"
     ]
    }
   ],
   "source": [
    "!grep '>' *_unaligned.fasta | sort | uniq -d\n",
    "!grep -c '>' *_unaligned.fasta\n",
    "!grep  'QLD' *_unaligned.fasta"
   ]
  },
  {
   "cell_type": "markdown",
   "metadata": {},
   "source": [
    "**please run the cell below to get the number of fasta from the previous run**  \n",
    "To keep track if we are missing isolates"
   ]
  },
  {
   "cell_type": "code",
   "execution_count": 88,
   "metadata": {},
   "outputs": [
    {
     "name": "stdout",
     "output_type": "stream",
     "text": [
      "inbetween_unaligned_nrep.fasta:456\n",
      "less300_unaligned_nrep.fasta:1049\n"
     ]
    }
   ],
   "source": [
    "!grep -c '>' *_unaligned_nrep.fasta"
   ]
  },
  {
   "cell_type": "code",
   "execution_count": 89,
   "metadata": {},
   "outputs": [],
   "source": [
    "#remove genomes for duplicate samples\n",
    "!seqtk subseq less300_unaligned.fasta clean_samples.txt > less300_unaligned_nrep.fasta\n",
    "!seqtk subseq inbetween_unaligned.fasta clean_samples.txt > inbetween_unaligned_nrep.fasta"
   ]
  },
  {
   "cell_type": "code",
   "execution_count": 90,
   "metadata": {},
   "outputs": [
    {
     "name": "stdout",
     "output_type": "stream",
     "text": [
      "inbetween_unaligned_nrep.fasta:474\n",
      "less300_unaligned_nrep.fasta:1048\n"
     ]
    }
   ],
   "source": [
    "#check if there are still duplicated genomes\n",
    "!grep '>' *_unaligned_nrep.fasta | sort | uniq -d\n",
    "!grep -c '>' *_unaligned_nrep.fasta\n",
    "# the expected output for this is empty, \n",
    "\n",
    "\n",
    "\n",
    "# otherwise we need to go back to revisit the previous steps, for example; check the clean_samples.txt first for duplicated entries.\n",
    "#!cat clean_samples.txt | sort | uniq -d \n",
    "#!awk '/^/{f=!d[$1];d[$1]=1}f' clean_samples.txt > clean_samples.dedupped.txt\n",
    "#!echo \"--\"\n",
    "#!cat clean_samples.dedupped.txt | sort | uniq -d\n",
    "#!cp clean_samples.dedupped.txt clean_samples.txt"
   ]
  },
  {
   "cell_type": "code",
   "execution_count": 50,
   "metadata": {},
   "outputs": [],
   "source": [
    "# if duplicates run de-dup\n",
    "#!awk '/^>/{f=!d[$1];d[$1]=1}f' less300_unaligned_nrep.fasta > less300_unaligned_nrep.clean.fasta\n",
    "#!mv less300_unaligned_nrep.clean.fasta less300_unaligned_nrep.fasta\n",
    "\n",
    "\n",
    "#ref_aligned_nrep.fasta\n",
    "#!awk '/^>/{f=!d[$1];d[$1]=1}f' ref_aligned_nrep.fasta > ref_aligned_nrep.clean.fasta\n",
    "#!mv ref_aligned_nrep.clean.fasta ref_aligned_nrep.fasta"
   ]
  },
  {
   "cell_type": "code",
   "execution_count": 91,
   "metadata": {},
   "outputs": [
    {
     "name": "stdout",
     "output_type": "stream",
     "text": [
      "less300_unaligned_nrep.fasta:>21MV0741\n",
      "less300_unaligned_nrep.fasta:>21MV0742\n",
      "less300_unaligned_nrep.fasta:>21MV0743\n",
      "less300_unaligned_nrep.fasta:>21MV0745\n",
      "less300_unaligned_nrep.fasta:>21MV0746\n",
      "less300_unaligned_nrep.fasta:>21MV0748\n",
      "less300_unaligned_nrep.fasta:>21MV0753\n",
      "less300_unaligned_nrep.fasta:>21MV0754\n",
      "inbetween_unaligned_nrep.fasta:>21CH0093\n",
      "inbetween_unaligned_nrep.fasta:>21-010-5891\n",
      "inbetween_unaligned_nrep.fasta:>21-010-5892\n",
      "inbetween_unaligned_nrep.fasta:>21-010-6026\n",
      "inbetween_unaligned_nrep.fasta:>21-010-6030\n",
      "inbetween_unaligned_nrep.fasta:>21-010-6289\n",
      "inbetween_unaligned_nrep.fasta:>21-010-6335\n",
      "inbetween_unaligned_nrep.fasta:>21-010-6358\n",
      "inbetween_unaligned_nrep.fasta:>21-010-6747\n",
      "inbetween_unaligned_nrep.fasta:>21-010-6753\n",
      "inbetween_unaligned_nrep.fasta:>21-010-5141\n",
      "inbetween_unaligned_nrep.fasta:>21-010-6413\n",
      "inbetween_unaligned_nrep.fasta:>21-010-6795\n",
      "inbetween_unaligned_nrep.fasta:>21-010-6947\n",
      "inbetween_unaligned_nrep.fasta:>21-010-6965\n",
      "inbetween_unaligned_nrep.fasta:>21-010-6973\n",
      "inbetween_unaligned_nrep.fasta:>21-010-7722\n",
      "inbetween_unaligned_nrep.fasta:>21-010-7734\n",
      "inbetween_unaligned_nrep.fasta:>21-010-7776\n",
      "less300_unaligned_nrep.fasta:>21-010-0956-AR_ivar\n",
      "less300_unaligned_nrep.fasta:>21-010-0978msq-AR_ivar\n",
      "less300_unaligned_nrep.fasta:>21-010-1017msq-AR_ivar\n"
     ]
    }
   ],
   "source": [
    "!grep '21MV07[4,5]' *unaligned_nrep.fasta\n",
    "!grep '>21CH009' *_unaligned_nrep.fasta\n",
    "!grep '>21-010' *_unaligned_nrep.fasta"
   ]
  },
  {
   "cell_type": "raw",
   "metadata": {},
   "source": [
    "Before a snakemake workflow is develeoped, the order of runing the following steps is run 5b) alignment first then start to run 5d) partila alignment and 5c) tree at the same time. Once the 5d) partial alignment is complete then start the partial tree run."
   ]
  },
  {
   "cell_type": "markdown",
   "metadata": {},
   "source": [
    "### 5b) align the consensus files\n",
    "\n",
    "----\n",
    "\n",
    "--> In terminal under screen\n",
    "\n",
    "----\n",
    "\n",
    "To align the genome\n",
    "\n",
    "under screen\n",
    "\n",
    "cd /NGS/active/VIR/SARS-CoV2/analysis/alignment_clustering/clean_dataset  \n",
    "bash run_mafft_nrep.sh"
   ]
  },
  {
   "cell_type": "code",
   "execution_count": 52,
   "metadata": {},
   "outputs": [
    {
     "name": "stdout",
     "output_type": "stream",
     "text": [
      "/NGS/active/VIR/SARS-CoV2/analysis/alignment_clustering/clean_dataset\n",
      "/NGS/active/VIR/SARS-CoV2/analysis/alignment_clustering/clean_dataset\n"
     ]
    }
   ],
   "source": [
    "%cd /NGS/active/VIR/SARS-CoV2/analysis/alignment_clustering/clean_dataset\n",
    "!pwd"
   ]
  },
  {
   "cell_type": "code",
   "execution_count": 53,
   "metadata": {},
   "outputs": [
    {
     "name": "stdout",
     "output_type": "stream",
     "text": [
      "-rw-rw---- 1 uren    SEC_lab_VIR  17K Aug 20 09:39 partial.txt\n",
      "-rw-rw---- 1 jwang   SEC_lab_VIR 9.5M Aug 20 09:41 new_inbetween.fasta\n",
      "-rw-rw---- 1 jwang   SEC_lab_VIR  17M Aug 20 09:41 new_less300.fasta\n",
      "-rw-rw---- 1 uren    SEC_lab_VIR  22K Aug 20 09:41 clean_samples.txt\n",
      "-rw-rw---- 1 uren    SEC_lab_VIR  15M Aug 20 09:42 inbetween_unaligned.fasta\n",
      "-rw-rw---- 1 uren    SEC_lab_VIR  32M Aug 20 09:42 less300_unaligned.fasta\n",
      "-rw-rw---- 1 jdeligt SEC_lab_VIR  30M Aug 20 09:42 less300_unaligned_nrep.fasta\n",
      "-rw-rw---- 1 uren    SEC_lab_VIR  14M Aug 20 09:42 inbetween_unaligned_nrep.fasta\n",
      "-rw-rw---- 1 uren    SEC_lab_VIR  31M Aug 20 09:57 less300_aligned_nrep.fasta\n",
      "-rw-rw---- 1 jdeligt SEC_lab_VIR  44M Aug 20 10:09 ref_aligned_nrep.fasta\n"
     ]
    }
   ],
   "source": [
    "# check if files are updated before continuing\n",
    "!ls -ltrh | tail"
   ]
  },
  {
   "cell_type": "code",
   "execution_count": 54,
   "metadata": {},
   "outputs": [
    {
     "name": "stdout",
     "output_type": "stream",
     "text": [
      "bup_ref_aligned_nrep.fasta:>Australia/QLD1147/2020\n",
      "less300_aligned_nrep.fasta:>QLD1965|EPI_ISL_2695790|2021-06-27\n",
      "less300_aligned_nrep.fasta:>QLD2123|EPI_ISL_3247202|2021-08-01\n",
      "less300_unaligned_nrep.fasta:>QLD1965|EPI_ISL_2695790|2021-06-27\n",
      "less300_unaligned_nrep.fasta:>QLD2123|EPI_ISL_3247202|2021-08-01\n",
      "ref_aligned_nrep.fasta:>QLD1965|EPI_ISL_2695790|2021-06-27\n",
      "ref_aligned_nrep.fasta:>QLD2123|EPI_ISL_3247202|2021-08-01\n",
      "ref_aligned_trimmed55:29800_nrep.fasta:>QLD1965|EPI_ISL_2695790|2021-06-27\n",
      "ref_aligned_trimmed55:29800_nrep.fasta:>QLD2123|EPI_ISL_3247202|2021-08-01\n",
      ">21CV0234\n",
      ">21CV0235\n",
      ">21CV0231\n"
     ]
    }
   ],
   "source": [
    "# check how many sequences there are in the files\n",
    "!grep 'QLD' *_nrep.fasta\n",
    "!grep '21CV023' ref_aligned_nrep.fasta"
   ]
  },
  {
   "cell_type": "code",
   "execution_count": 80,
   "metadata": {},
   "outputs": [
    {
     "name": "stdout",
     "output_type": "stream",
     "text": [
      "inbetween_unaligned_nrep.fasta:>21CH0093\n",
      "ref_aligned_nrep.fasta:>21CH0093\n",
      "ref_aligned_trimmed55:29800_nrep.fasta:>21CH0093\n"
     ]
    }
   ],
   "source": [
    "#make sure all new genomes are in the alignment\n",
    "!grep '21CH009' *_nrep.fasta"
   ]
  },
  {
   "cell_type": "code",
   "execution_count": 55,
   "metadata": {},
   "outputs": [],
   "source": [
    "#trimmed beggining and end\n",
    "import sys\n",
    "from Bio import AlignIO\n",
    "from Bio import SeqIO\n",
    "\n",
    "# Usage: python scriptname.py alignment format\n",
    "\n",
    "input=\"ref_aligned_nrep.fasta\"\n",
    "\n",
    "aln = AlignIO.read(input, \"fasta\")\n",
    "sub_alignment = aln[:,55:29800]\n",
    "#print(sub_alignment)\n",
    "with open(\"ref_aligned_trimmed55:29800_nrep.fasta\", \"w\") as handle:\n",
    "    count = SeqIO.write(sub_alignment, handle, \"fasta\")"
   ]
  },
  {
   "cell_type": "markdown",
   "metadata": {},
   "source": [
    "### 5c) generate tree"
   ]
  },
  {
   "cell_type": "code",
   "execution_count": null,
   "metadata": {},
   "outputs": [
    {
     "name": "stdout",
     "output_type": "stream",
     "text": [
      "FastTree Version 2.1.10 Double precision (No SSE3)\n",
      "Alignment: ref_aligned_trimmed55:29800_nrep.fasta\n",
      "Nucleotide distances: Jukes-Cantor Joins: balanced Support: SH-like 1000\n",
      "Search: Normal +NNI +SPR (2 rounds range 10) +ML-NNI opt-each=1\n",
      "TopHits: 1.00*sqrtN close=default refresh=0.80\n",
      "ML Model: Generalized Time-Reversible, CAT approximation with 20 rate categories\n",
      "Ignored unknown character n (seen 529690 times)\n",
      "Initial topology in 49.18 seconds of   1283    1 of   1286 seqs   1200)   \n",
      "Refining topology: 41 rounds ME-NNIs, 2 rounds ME-SPRs, 21 rounds ML-NNIs\n",
      "Total branch-length 0.116 after 171.79 sec 701 of 1284 splits, 0 changes   ax delta 0.000)     \n",
      "\n",
      "WARNING! This alignment consists of closely-related and very-long sequences.\n",
      "WARNING! FastTree (or other standard maximum-likelihood tools)\n",
      "may not be appropriate for aligments of very closely-related sequences\n",
      "like this one, as FastTree does not account for recombination or gene conversion\n",
      "\n",
      "ML-NNI round 1: LogLk = -77747.812 NNIs 456 max delta 12.34 Time 250.05ges (max delta 12.342)   \n",
      "    384.37 seconds: Optimizing GTR model, step 5 of 12   \r"
     ]
    }
   ],
   "source": [
    "#generate tree\n",
    "#FROM JOEP : I run this in a SCREEN as well \n",
    "!/home/uren/bin/FastTreeDbl -nt -gamma -gtr ref_aligned_trimmed55\\:29800_nrep.fasta > ref_aligned_trimmed55\\:29800_nrep.fasttree"
   ]
  },
  {
   "cell_type": "markdown",
   "metadata": {},
   "source": [
    "### 5d) EXTRAs\n",
    "\n",
    "run partial genomes\n",
    "\n",
    "in terminal\n",
    "cd /NGS/active/VIR/SARS-CoV2/analysis/alignment_clustering/isolation/\n",
    "\n",
    "bash run_mafft.sh"
   ]
  },
  {
   "cell_type": "code",
   "execution_count": 57,
   "metadata": {},
   "outputs": [],
   "source": [
    "#trimmed beggining and end\n",
    "import sys\n",
    "from Bio import AlignIO\n",
    "from Bio import SeqIO\n",
    "\n",
    "# Usage: python scriptname.py alignment format\n",
    "\n",
    "input=\"/NGS/active/VIR/SARS-CoV2/analysis/alignment_clustering/isolation/isolation_aligned.fasta\"\n",
    "\n",
    "aln = AlignIO.read(input, \"fasta\")\n",
    "sub_alignment = aln[:,55:29800]\n",
    "#print(sub_alignment)\n",
    "with open(\"/NGS/active/VIR/SARS-CoV2/analysis/alignment_clustering/isolation/isolation_aligned.trimmed.fasta\", \"w\") as handle:\n",
    "    count = SeqIO.write(sub_alignment, handle, \"fasta\")"
   ]
  },
  {
   "cell_type": "code",
   "execution_count": 56,
   "metadata": {},
   "outputs": [
    {
     "name": "stdout",
     "output_type": "stream",
     "text": [
      "/NGS/active/VIR/SARS-CoV2/analysis/alignment_clustering/clean_dataset\n"
     ]
    }
   ],
   "source": [
    "!pwd"
   ]
  },
  {
   "cell_type": "code",
   "execution_count": null,
   "metadata": {},
   "outputs": [
    {
     "name": "stdout",
     "output_type": "stream",
     "text": [
      "FastTree Version 2.1.10 Double precision (No SSE3)\n",
      "Alignment: /NGS/active/VIR/SARS-CoV2/analysis/alignment_clustering/isolation/isolation_aligned.trimmed.fasta\n",
      "Nucleotide distances: Jukes-Cantor Joins: balanced Support: SH-like 1000\n",
      "Search: Normal +NNI +SPR (2 rounds range 10) +ML-NNI opt-each=1\n",
      "TopHits: 1.00*sqrtN close=default refresh=0.80\n",
      "ML Model: Generalized Time-Reversible, CAT approximation with 20 rate categories\n",
      "Ignored unknown character n (seen 1863782 times)\n",
      "Initial topology in 62.74 seconds of   1502   505 seqs (at seed   1500)   \n",
      "Refining topology: 42 rounds ME-NNIs, 2 rounds ME-SPRs, 21 rounds ML-NNIs\n",
      "Total branch-length 0.143 after 217.49 sec 801 of 1503 splits, 0 changes   ax delta 0.000)     \n",
      "\n",
      "WARNING! This alignment consists of closely-related and very-long sequences.\n",
      "WARNING! FastTree (or other standard maximum-likelihood tools)\n",
      "may not be appropriate for aligments of very closely-related sequences\n",
      "like this one, as FastTree does not account for recombination or gene conversion\n",
      "\n",
      "ML-NNI round 1: LogLk = -84954.432 NNIs 592 max delta 72.60 Time 312.52ges (max delta 72.600)   \n",
      "    425.65 seconds: Optimizing GTR model, step 4 of 12   \r"
     ]
    }
   ],
   "source": [
    "#Jing run it under a session as well\n",
    "!/home/uren/bin/FastTreeDbl -nt -gamma -gtr /NGS/active/VIR/SARS-CoV2/analysis/alignment_clustering/isolation/isolation_aligned.trimmed.fasta > /NGS/active/VIR/SARS-CoV2/analysis/alignment_clustering/isolation/isolation_aligned.trimmed.fasttree "
   ]
  },
  {
   "cell_type": "raw",
   "metadata": {},
   "source": [
    "Check the latest isolates in the both trees:\n",
    "800 21CH0093 PASS #0C7BDC\n",
    "28895 21CH0094 FAIL #000000\n",
    "181 21MV0730 HighQuality #FFC20A\n",
    "179 21MV0732 HighQuality #FFC20A\n",
    "252 21MV0735 HighQuality #FFC20A\n",
    "179 21MV0736 HighQuality #FFC20A\n",
    "180 21MV0739 HighQuality #FFC20A\n",
    "2291 21MV0733 PASS #0C7BDC\n",
    "5194 21MV0731 PARTIAL #87A0B5\n",
    "9849 21MV0737 PARTIAL #87A0B5\n",
    "14450 21MV0738 PARTIAL #87A0B5"
   ]
  },
  {
   "cell_type": "code",
   "execution_count": 69,
   "metadata": {},
   "outputs": [
    {
     "name": "stdout",
     "output_type": "stream",
     "text": [
      "/NGS/active/VIR/SARS-CoV2/analysis/alignment_clustering/clean_dataset\n"
     ]
    }
   ],
   "source": [
    "!pwd"
   ]
  },
  {
   "cell_type": "code",
   "execution_count": 85,
   "metadata": {},
   "outputs": [
    {
     "name": "stdout",
     "output_type": "stream",
     "text": [
      ">21MV0730\n",
      ">21MV0732\n",
      ">21MV0735\n",
      ">21MV0739\n",
      ">21MV0733\n",
      ">21MV0731\n",
      ">21MV0737\n"
     ]
    }
   ],
   "source": [
    "#!cat /NGS/active/VIR/SARS-CoV2/analysis/alignment_clustering/isolation/isolation_aligned.trimmed.fasttree | grep '21MV0709' #21MV0709 is a partial genome\n",
    "#!cat /NGS/active/VIR/SARS-CoV2/analysis/alignment_clustering/clean_dataset/ref_aligned_trimmed55\\:29800_nrep.fasttree | grep '21MV0710' #21MV0710 is a PASS genome\n",
    "#!cat /NGS/active/VIR/SARS-CoV2/analysis/alignment_clustering/isolation/isolation_aligned.trimmed.fasttree | grep '21MV0709'\n",
    "#!cat /NGS/active/VIR/SARS-CoV2/analysis/alignment_clustering/clean_dataset/ref_aligned_trimmed55:29800_nrep.fasta | grep '21CH009'\n",
    "#!cat /NGS/active/VIR/SARS-CoV2/analysis/alignment_clustering/clean_dataset/ref_aligned_trimmed55\\:29800_nrep.fasta | grep '21MV0725'\n",
    "#!cat /NGS/active/VIR/SARS-CoV2/analysis/alignment_clustering/clean_dataset/ref_aligned_trimmed55\\:29800_nrep.fasta | grep '21MV073'\n",
    "#!cat /NGS/active/VIR/SARS-CoV2/analysis/alignment_clustering/clean_dataset/ref_aligned_trimmed55\\:29800_nrep.fasta | grep 'NSW4776|EPI_ISL_2650012|2021-06-22'\n",
    "!cat /NGS/active/VIR/SARS-CoV2/analysis/alignment_clustering/isolation/isolation_aligned.trimmed.fasta | grep '21MV073'\n",
    "#!cat /NGS/active/VIR/SARS-CoV2/analysis/alignment_clustering/isolation/isolation_aligned.trimmed.fasta | grep '21CH009'\n",
    "\n",
    "#!grep '21CH0094' clean_samples.txt\n",
    "#!grep '21MV073' clean_samples.txt\n"
   ]
  },
  {
   "cell_type": "raw",
   "metadata": {},
   "source": []
  },
  {
   "cell_type": "markdown",
   "metadata": {},
   "source": [
    "## 6) Get trees and microreact files ready and update microreact\n",
    "\n",
    "\n",
    "Download the present copy of microreact datasheet from google \"microreact-google.tsv\" and upload to production, so we don't lose interpretations and subcluster information.\n",
    "\n",
    "to\n",
    "\n",
    "/NGS/active/VIR/SARS-CoV2/analysis/BIdownload/microreact\n",
    "\n",
    "Run R notebook:  \n",
    "**/NGS/active/VIR/SARS-CoV2/analysis/BIdownload/microreact/microreact_metadata_clean.Rmd**  \n",
    "**need R 3.5**\n",
    "\n",
    "\n",
    "**ready to update** \n",
    "\n",
    "#### 6a \n",
    "download **/NGS/active/VIR/SARS-CoV2/analysis/BIdownload/microreact/microreact_sample_status_new.tsv** to  \n",
    "**\\\\hpcprod-file.esr.cri.nz\\esrprodbio_wgs\\COVID-19\\microreact**\n",
    "\n",
    "The file generated should contain all the post 2020 samples and samples that are yet to be received. Download the file from production on windows and update the google sheet, **DHB**, copy and paste the new samples and absent samples in. if there are repeats Microreact will let you know.\n",
    "\n",
    "and copy the sheet apart from column name and paste from **21CH** in the DHB worksheet on google doc. (record_index: \"1511\" in google_worksheet)\n",
    "\n",
    "Possibly you need to remove sample \"21MV0242\" because it has the ID (episurv_number) with \"21MV0278\" (both failed)'\n",
    "\n",
    "Possibly you need to remove sample \"21MV0198\" because it has the ID (episurv_number 21-397164-AK ) with 21MV0283\n",
    "\n",
    "remove \"NA\tCounties Manukau\t21-396774-AK\tMIQ\t-36.994102\t174.87266\tAbsent\" 21-396774-AK has sample 21MV0226\n",
    "\n",
    "remove \"21MV0545\tCounties Manukau\t21-400904-AK\tMIQ\t-36.99\t174.87\tPresent\t#FEFE62\tFAIL\" 21-400904-AK has two samples both failed\n",
    "\n",
    "\n",
    "\n",
    "#### 6b\n",
    "Download **/NGS/active/VIR/SARS-CoV2/analysis/BIdownload/microreact/microreact_new.tsv**\n",
    "to  \n",
    "**\\\\hpcprod-file.esr.cri.nz\\esrprodbio_wgs\\COVID-19\\microreact**\n",
    "\n",
    "\n",
    "should be able to just cut and paste the whole thing into **microreact** google sheet. Make sure leave the top few rows as it is, those include reference info and column names and samples process by other labs.. start copy and pasting at sample **20CV0052**. If you have some issues (like the browser close unexpectedly) copy the rows starting from the present year \"21CH0001\" (record_index: \"1529\" in google_worksheet)\n",
    "Don't forget to expand in google sheets the columns that you see with ##### otherwise the copy paste won't work\n",
    "\n",
    "There are some duplicates that I can't get rid of, they are:\n",
    "\n",
    "20VR0462  delete lineage B one  \n",
    "20VR0465  delete lineage B.1\n",
    "\n",
    "20VR0514  delete lineage B.1 - not repeat found anymore, why?\n",
    "\n",
    "20VR1289  delete lineage B one  \n",
    "20VR1869  delete lineage none one  \n",
    "20VR1906  delete lineage none one  \n",
    "20VR2060  delete lineage B.1 one  \n",
    "20VR2542  delete lineage none one  \n",
    "\n",
    "new repeat due to two episurve number for one NHI  \n",
    "\n",
    "21MV0092\tdelete  the one with 20-384865-AK  \n",
    "\n",
    "Australia/QLD1147/2020 (only in the file, not in the Google file) #Jing 24/06/2021 this is not relevant anymore.\n",
    "\n",
    "Need to delete one of the duplicates by hand. Check the lineage info to decide which one to delete.\n",
    "\n",
    "#### 6c\n",
    "Download **/NGS/active/VIR/SARS-CoV2/analysis/BIdownload/microreact/microreact_fasttree.nwk** \n",
    "to  \n",
    "**\\\\hpcprod-file.esr.cri.nz\\esrprodbio_wgs\\COVID-19\\microreact**\n",
    "\n",
    "and up load to microreact by putting the tree file into the google drive directory: first to prerealse then after checking upload to the proper project:\n",
    "\n",
    "Microreact_prerelease  \n",
    "microreact_proper\n",
    "\n",
    "**Just drop the file in, don't change the name of the file or create a new one. The file NEED to have the same name and replace the existing one for it to upload automatically.**\n",
    "\n",
    "#### 6d\n",
    "\n",
    "Download **/NGS/active/VIR/SARS-CoV2/analysis/alignment_clustering/isolation/isolation.nwk** \n",
    "to  \n",
    "**\\\\hpcprod-file.esr.cri.nz\\esrprodbio_wgs\\COVID-19\\microreact\\isolation**\n",
    "\n",
    "and up load to microreact by putting the tree file into the google drive prerelase directory\n",
    "\n",
    "**Just drop the file in, don't change the name of the file or create a new one. The file NEED to have the same name and replace the existing one for it to upload automatically.**"
   ]
  },
  {
   "cell_type": "markdown",
   "metadata": {},
   "source": [
    "## 7) report table\n",
    "need  \n",
    "EpiSurv Number DHB Lineage Date_received\n",
    "\n",
    "For filling the table QC is also helpful because partial genomes need to be marked\n",
    "\n",
    "change run directory as needed\n",
    "\n",
    "if more than one run per site, can either use wildcard to define them or just add the directory to the cat portion of the command"
   ]
  },
  {
   "cell_type": "code",
   "execution_count": 86,
   "metadata": {},
   "outputs": [
    {
     "name": "stdout",
     "output_type": "stream",
     "text": [
      "Runs KSC=, MASC=20210819_1_V1200_RAPID_MASC, CSC=\n",
      "21MV0724\t21-403322-AK\tWaitemata\tB.1.617.2\t2021-08-19\t21-403322-AK\tHighQuality\n",
      "21MV0725\tNA\tNA\tB.1.617.2\t2021-08-19\tNA\tNA\n",
      "21MV0726\t21-403156-AK\tCounties Manukau\tNA\t2021-08-17\t21-403156-AK\tNA\n",
      "21MV0727\t21-403259-AK\tAuckland\tAY.4\t2021-08-19\t21-403259-AK\tPASS\n",
      "21MV0728\t21-403262-AK\tAuckland\tB.1.617.2\t2021-08-19\t21-403262-AK\tHighQuality\n",
      "21MV0729\t21-403263-AK\tCounties Manukau\tB.1.617.2\t2021-08-19\t21-403263-AK\tPASS\n",
      "21MV0730\t21-403264-AK\tAuckland\tB.1.617.2\t2021-08-19\t21-403264-AK\tHighQuality\n",
      "21MV0731\t21-403266-AK\tAuckland\tAY.12\t2021-08-19\t21-403266-AK\tPARTIAL\n",
      "21MV0732\t21-403258-AK\tAuckland\tB.1.617.2\t2021-08-19\t21-403258-AK\tHighQuality\n",
      "21MV0733\t21-403316-AK\tCounties Manukau\tAY.6\t2021-08-19\t21-403316-AK\tPASS\n",
      "21MV0734\t21-403324-AK\tWaitemata\tNA\t2021-08-19\t21-403324-AK\tNA\n",
      "21MV0735\t21-403326-AK\tAuckland\tAY.4\t2021-08-19\t21-403326-AK\tHighQuality\n",
      "21MV0737\t21-403325-AK\tWaitemata\tB.1.617.2\t2021-08-19\t21-403325-AK\tPARTIAL\n",
      "21MV0738\t21-403329-AK\tAuckland\tNone\t2021-08-19\t21-403329-AK\tPARTIAL\n",
      "21MV0739\t21-403320-AK\tAuckland\tB.1.617.2\t2021-08-19\t21-403320-AK\tHighQuality\n",
      "21MV0740\t21-403327-AK\tAuckland\tB.1.617.2\t2021-08-19\t21-403327-AK\tPARTIAL\n",
      "21MV0741\t21-403318-AK\tWaitemata\tB.1.617.2\t2021-08-19\t21-403318-AK\tHighQuality\n",
      "21MV0742\t21-403255-AK\tCounties Manukau\tB.1.617.2\t2021-08-19\t21-403255-AK\tHighQuality\n",
      "21MV0743\t21-403253-AK\tAuckland\tB.1.617.2\t2021-08-19\t21-403253-AK\tHighQuality\n",
      "21MV0698\t21-402821-AK\tAuckland\tB.1.617.2\t2021-08-16\tNA\tHighQuality\n"
     ]
    },
    {
     "name": "stderr",
     "output_type": "stream",
     "text": [
      "cat: /NGS/active/VIR/SARS-CoV2/analysis/GridIon_assemblies/_analysis/*/isolate_to_barcode.csv: No such file or directory\n",
      "cat: /NGS/active/VIR/SARS-CoV2/analysis/CSC/_analysis//*/isolate_to_barcode.csv: No such file or directory\n",
      "cat: /NGS/active/VIR/SARS-CoV2/analysis/GridIon_assemblies/_analysis/*/isolate_to_barcode.csv: No such file or directory\n",
      "cat: /NGS/active/VIR/SARS-CoV2/analysis/CSC/_analysis//*/isolate_to_barcode.csv: No such file or directory\n"
     ]
    }
   ],
   "source": [
    "%%bash  -s \"$KSC_RUN_ID\" \"$MASC_RUN_ID\" \"$CSC_RUN_ID\"\n",
    "\n",
    "echo \"Runs KSC=$1, MASC=$2, CSC=$3\"\n",
    "\n",
    "KSCRUN_DIR=$(echo \"/NGS/active/VIR/SARS-CoV2/analysis/GridIon_assemblies/$1_analysis\")\n",
    "\n",
    "MASCRUN_DIR=$(echo \"/NGS/active/VIR/SARS-CoV2/analysis/MASC/$2_analysis/\")\n",
    "\n",
    "CSCRUN_DIR=$(echo \"/NGS/active/VIR/SARS-CoV2/analysis/CSC/$3_analysis/\")\n",
    "\n",
    "\n",
    "cat $KSCRUN_DIR/*/isolate_to_barcode.csv $MASCRUN_DIR/*/isolate_to_barcode.csv $CSCRUN_DIR/*/isolate_to_barcode.csv | \\\n",
    "awk 'BEGIN {FS=\",\"} {print $1}' | \\\n",
    "xargs -I {} grep {} /NGS/active/VIR/SARS-CoV2/analysis/alignment_clustering/clean_dataset/clean_samples.txt | \\\n",
    "xargs -I {} grep {} /NGS/active/VIR/SARS-CoV2/analysis/BIdownload/BI_epi.tsv | awk 'BEGIN {FS=\"\\t\"} {OFS=\"\\t\"} {print $2, $3, $4, $28}' | uniq > report_isolates.tsv\n",
    "\n",
    "cat $KSCRUN_DIR/*/isolate_to_barcode.csv $MASCRUN_DIR/*/isolate_to_barcode.csv $CSCRUN_DIR/*/isolate_to_barcode.csv | \\\n",
    "awk 'BEGIN {FS=\",\"} {print $1}' | \\\n",
    "xargs -I {} grep {} /NGS/active/VIR/SARS-CoV2/analysis/alignment_clustering/clean_dataset/clean_samples.txt | \\\n",
    "xargs -I {} grep {} /NGS/active/VIR/SARS-CoV2/analysis/BIdownload/microreact/microreact_new.tsv | awk 'BEGIN {FS=\"\\t\";OFS=\"\\t\"} {print $7, $18, $28}' | paste report_isolates.tsv - | \\\n",
    "awk 'BEGIN {FS=\"\\t\"} {OFS=\"\\t\"} {print $1, $2, $5, $6, $4, $3, $7}' | uniq > report_table.tsv\n",
    "\n",
    "cat report_table.tsv"
   ]
  },
  {
   "cell_type": "code",
   "execution_count": 63,
   "metadata": {},
   "outputs": [
    {
     "name": "stdout",
     "output_type": "stream",
     "text": [
      "/NGS/active/VIR/SARS-CoV2/analysis/alignment_clustering/clean_dataset\n",
      "21MV0570\t21-401214-AK\t21-401214-AK\t21-401214-AK\tNA\tAdd comments\tAuckland\t2021-07-04\t2021-07-04\t2021\t7\t4\tNA\tSingapore\tNA\t-36.85\t174.765\tB.1.617.2\tDelta (B.1.617.2-like)\t2021-07-28\tNA\tNA\t#ebebeb\t#ebebeb\t#20F074\t#ebebeb\tMIQ\tPASS\tNA\tNA\tNA\tNA\tNA\n",
      "21MV0571\t21-401307-WN\t21-401307-NP\t21-401307-WN\tOB-21-109711-WN\tMariners\tCapital and Coast\t2021-07-06\tNA\t2021\t7\t6\tIndonesia\tSingapore\tNA\t-41.282\t174.784\tB.1.617.2\tDelta (B.1.617.2-like)\t2021-07-28\tNA\tNA\t#053318FF\t#ebebeb\t#20F074\t#ebebeb\tMIQ\tHighQuality\t21-401307-NP\tNA\tNA\tNA\tNA\n",
      "21MV0572\t21-401312-WN\t21-401312-NP\t21-401312-WN\tOB-21-109711-WN\tMariners\tCapital and Coast\t2021-07-06\tNA\t2021\t7\t6\tIndonesia\tSingapore\tNA\t-41.282\t174.784\tNone\tNA\t2021-07-28\tNA\tNA\t#053318FF\t#ebebeb\t#ebebeb\t#ebebeb\tMIQ\tFAIL\tNA\tNA\tNA\tNA\tNA\n",
      "21MV0573\t21-401197-AK\t21-401197-AK\t21-401197-AK\tNA\tAdd comments\tCounties Manukau\t2021-07-02\tNA\t2021\t7\t2\tNA\tSingapore\tNA\t-36.978\t174.781\tNone\tNA\t2021-07-28\tNA\tNA\t#ebebeb\t#ebebeb\t#ebebeb\t#ebebeb\tMIQ\tFAIL\tNA\tNA\tNA\tNA\tNA\n",
      "21MV0574\t21-401201-AK\t21-401201-AK\t21-401201-AK\tNA\tAdd comments\tCounties Manukau\t2021-07-03\t2021-06-23\t2021\t7\t3\tNA\tMalaysia\tNA\t-36.978\t174.781\tB.1.617.2\tDelta (B.1.617.2-like)\t2021-07-28\tNA\tNA\t#ebebeb\t#ebebeb\t#20F074\t#ebebeb\tMIQ\tPASS\tNA\tNA\tNA\tNA\tNA\n",
      "21MV0575\t21-401204-AK\t21-401204-AK\t21-401204-AK\tNA\tAdd comments\tCounties Manukau\t2021-07-04\t2021-06-26\t2021\t7\t4\tNA\tSingapore\tNA\t-36.978\t174.781\tB.1.1.7\tAlpha (B.1.1.7-like)\t2021-07-28\tNA\tNA\t#ebebeb\t#ebebeb\t#F020A7\t#ebebeb\tMIQ\tPASS\tNA\tNA\tNA\tNA\tNA\n",
      "21MV0576\t21-401318-AK\t21-401318-AK\t21-401318-AK\tNA\tAdd comments\tCounties Manukau\t2021-07-06\tNA\t2021\t7\t6\tNA\tSingapore\tNA\t-36.978\t174.781\tNone\tNA\t2021-07-28\tNA\tNA\t#ebebeb\t#ebebeb\t#ebebeb\t#ebebeb\tMIQ\tFAIL\tNA\tNA\tNA\tNA\tNA\n",
      "21MV0577\t21-401313-AK\t21-401313-AK\t21-401313-AK\tNA\tAdd comments\tCounties Manukau\t2021-07-06\t2021-07-05\t2021\t7\t6\tNA\tMalaysia\tNA\t-36.978\t174.781\tB.1.617.2\tDelta (B.1.617.2-like)\t2021-07-28\tNA\tNA\t#ebebeb\t#ebebeb\t#20F074\t#ebebeb\tMIQ\tPARTIAL\tNA\tNA\tNA\tNA\tNA\n",
      "21MV0578\t21-401325-AK\t21-401325-AK\t21-401325-AK\tNA\tAdd comments\tAuckland\t2021-07-06\t2021-07-01\t2021\t7\t6\tNA\tMalaysia\tNA\t-36.917\t174.835\tB.1.617.2\tDelta (B.1.617.2-like)\t2021-07-28\tNA\tNA\t#ebebeb\t#ebebeb\t#20F074\t#ebebeb\tMIQ\tPASS\tNA\tNA\tNA\tNA\tNA\n"
     ]
    }
   ],
   "source": [
    "!pwd\n",
    "!grep '21MV057' /NGS/active/VIR/SARS-CoV2/analysis/BIdownload/microreact/microreact_new.tsv"
   ]
  },
  {
   "cell_type": "code",
   "execution_count": 5,
   "metadata": {},
   "outputs": [
    {
     "name": "stdout",
     "output_type": "stream",
     "text": [
      "usage: QC_update.py [-h] [-v] [-b [BATCH_RUN_ID]] [-s]\n",
      "\n",
      "backCharge.py: Automate the back-charge summing up sequenced samples from WGS-\n",
      "tracking on REDCap.\n",
      "\n",
      "optional arguments:\n",
      "  -h, --help         show this help message and exit\n",
      "  -v, --version      show program's version number and exit\n",
      "  -b [BATCH_RUN_ID]  Only bring data for this Batch run id\n",
      "  -s                 It will use the file -microreact_new.tsv- if you don't\n",
      "                     use this parameter it will use -report_table.tsv-\n"
     ]
    }
   ],
   "source": [
    "# Update the record in redcap with QC values  version 0.1. using the data from \"report_table.tsv\" (not the best for this process)\n",
    "!python3.5 /NGS/active/VIR/SARS-CoV2/Redcap_api_apps/QC_update.py -h\n",
    " #Runs KSC=, MASC=20210621_V3ARTIC_MASC, CSC=20210623_v3ARTIC_CSC"
   ]
  },
  {
   "cell_type": "code",
   "execution_count": null,
   "metadata": {},
   "outputs": [],
   "source": [
    "!python3.5 /NGS/active/VIR/SARS-CoV2/Redcap_api_apps/QC_update.py -b $KSC_RUN_ID\n",
    "!python3.5 /NGS/active/VIR/SARS-CoV2/Redcap_api_apps/QC_update.py -b $MASC_RUN_ID\n",
    "!python3.5 /NGS/active/VIR/SARS-CoV2/Redcap_api_apps/QC_update.py -b $CSC_RUN_ID\n"
   ]
  },
  {
   "cell_type": "code",
   "execution_count": null,
   "metadata": {},
   "outputs": [],
   "source": []
  },
  {
   "cell_type": "code",
   "execution_count": 16,
   "metadata": {},
   "outputs": [
    {
     "name": "stdout",
     "output_type": "stream",
     "text": [
      "Traceback (most recent call last):\n",
      "  File \"/NGS/active/VIR/SARS-CoV2/Redcap_api_apps/QC_update.py\", line 113, in <module>\n",
      "    main()\n",
      "  File \"/NGS/active/VIR/SARS-CoV2/Redcap_api_apps/QC_update.py\", line 110, in main\n",
      "    updateData(updateValues(df))\n",
      "  File \"/NGS/active/VIR/SARS-CoV2/Redcap_api_apps/QC_update.py\", line 95, in updateValues\n",
      "    index=df.index.union(simple_df.index, sort=False))\n",
      "  File \"/usr/lib64/python3.5/site-packages/pandas/core/indexes/base.py\", line 2331, in union\n",
      "    indexer = self.get_indexer(other)\n",
      "  File \"/usr/lib64/python3.5/site-packages/pandas/core/indexes/base.py\", line 2739, in get_indexer\n",
      "    raise InvalidIndexError('Reindexing only valid with uniquely'\n",
      "pandas.core.indexes.base.InvalidIndexError: Reindexing only valid with uniquely valued Index objects\n"
     ]
    }
   ],
   "source": []
  },
  {
   "cell_type": "code",
   "execution_count": null,
   "metadata": {},
   "outputs": [],
   "source": []
  }
 ],
 "metadata": {
  "kernelspec": {
   "display_name": "Python 3.8.6",
   "language": "python",
   "name": "python3"
  },
  "language_info": {
   "codemirror_mode": {
    "name": "ipython",
    "version": 3
   },
   "file_extension": ".py",
   "mimetype": "text/x-python",
   "name": "python",
   "nbconvert_exporter": "python",
   "pygments_lexer": "ipython3",
   "version": "3.8.6"
  }
 },
 "nbformat": 4,
 "nbformat_minor": 4
}
